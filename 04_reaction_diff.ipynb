{
 "cells": [
  {
   "attachments": {},
   "cell_type": "markdown",
   "metadata": {},
   "source": [
    "# Diferenčno izražanje reakcij\n",
    "Primerjali bomo pare reakcij (kontrola, utišanje) na podlagi vzorčenih metabolnih pretokov.\n",
    "\n",
    "Uporabimo lahko npr. test Kolmogorov-Smirnov, ki ne predpostavlja normalne porazdelitve v vzorcih, statistična značilnost razlik pa je ovrednotena s p-vrednostmi.\n",
    "\n",
    "Dodatno bomo opazovali kako močno se reakcije med vzorci razlikujejo (fold-changes):\n",
    "\n",
    "$$FC = \\frac{\\overline{R_{kd}} - \\overline{R_{control}}}{\\left|\\overline{R_{kd}} + \\overline{R_{control}}\\right|}$$"
   ]
  },
  {
   "cell_type": "code",
   "execution_count": 1,
   "metadata": {},
   "outputs": [],
   "source": [
    "import pandas as pd\n",
    "import numpy as np\n",
    "\n",
    "from scipy.stats import ks_2samp\n",
    "#import statsmodels.stats.multitest as multi\n",
    "\n",
    "import os.path\n",
    "\n",
    "from helpers import bh"
   ]
  },
  {
   "attachments": {},
   "cell_type": "markdown",
   "metadata": {},
   "source": [
    "### Osnovne nastavitve"
   ]
  },
  {
   "cell_type": "code",
   "execution_count": 2,
   "metadata": {},
   "outputs": [],
   "source": [
    "require_biomass = True\n",
    "folder_samples = os.path.join('samples','biomass') if require_biomass else os.path.join('samples','no_biomass')\n",
    "folder_enrich = os.path.join('enrichment','biomass') if require_biomass else os.path.join('enrichment','no_biomass')"
   ]
  },
  {
   "attachments": {},
   "cell_type": "markdown",
   "metadata": {},
   "source": [
    "### Branje iz datotek"
   ]
  },
  {
   "cell_type": "code",
   "execution_count": 3,
   "metadata": {},
   "outputs": [],
   "source": [
    "df_control = pd.read_csv(os.path.join(f'{folder_samples}','samples_control_RECON3D.csv'))\n",
    "df_tumor = pd.read_csv(os.path.join(f'{folder_samples}','samples_tumor_RECON3D.csv'))"
   ]
  },
  {
   "cell_type": "code",
   "execution_count": 4,
   "metadata": {},
   "outputs": [
    {
     "data": {
      "text/plain": [
       "2295"
      ]
     },
     "execution_count": 4,
     "metadata": {},
     "output_type": "execute_result"
    }
   ],
   "source": [
    "reactions = sorted(list(set(df_control.columns) | set(df_tumor.columns)))\n",
    "len(reactions) # število reakcij"
   ]
  },
  {
   "attachments": {},
   "cell_type": "markdown",
   "metadata": {},
   "source": [
    "### Diferenčna aktivnost reakcij"
   ]
  },
  {
   "cell_type": "code",
   "execution_count": 5,
   "metadata": {},
   "outputs": [],
   "source": [
    "df = pd.DataFrame(columns=['reaction', 'FC', 'p', 'q', 'enrichment', 'changed'])\n",
    "df['reaction']=reactions\n",
    "\n",
    "n_samples = df_control.shape[0]\n",
    "\n",
    "# sprehodimo se čez vse reakcije\n",
    "for reaction in reactions:\n",
    "    if reaction in df_control.columns:\n",
    "        control = df_control[reaction].values\n",
    "    else:\n",
    "        # če reakcije ni v kontrolni skupini, ji pripišemo same ničle\n",
    "        control = np.zeros(n_samples)\n",
    "        \n",
    "    if reaction in df_tumor.columns:\n",
    "        kd = df_tumor[reaction].values\n",
    "    else:\n",
    "        # če reakcije ni v kd skupini, ji pripišemo same ničle\n",
    "        kd = np.zeros(n_samples)\n",
    "        \n",
    "    # iztračunamo sredino za kontrolo in kd\n",
    "    mean_control = np.mean(control)\n",
    "    mean_tumor = np.mean(kd)\n",
    "    \n",
    "    # izračunamo FC - fold change in signifikanco z uporabo 2 sample Kolmogorov-Smirnov testa\n",
    "    if mean_control != 0 or mean_tumor != 0:\n",
    "        FC = mean_tumor-mean_control/(abs(mean_tumor + mean_control))\n",
    "        p = ks_2samp(control,kd)[1]\n",
    "    else:\n",
    "        FC = 0\n",
    "        p = 1     \n",
    "        \n",
    "    df.loc[df['reaction']==reaction, 'FC'] = FC\n",
    "    df.loc[df['reaction']==reaction, 'p'] = p\n",
    "    \n",
    "    \n",
    "# korigiramo p vrednosti za večkratno testiranje - FDR korekcija\n",
    "df['q'] = bh(df['p'])\n",
    "\n",
    "# signifikanca zahteva vsaj 10-kratno up-/down-regulacijo\n",
    "df.loc[(df['FC'] >= 0.82) & (df['q'] < 0.05),'enrichment'] = 1\n",
    "df.loc[(df['FC'] <= -0.82) & (df['q'] < 0.05),'enrichment'] = -1\n",
    "df.loc[~df['enrichment'].isna(),'changed'] = 1\n",
    "df = df.fillna(0)\n",
    "    \n",
    "    "
   ]
  },
  {
   "cell_type": "code",
   "execution_count": 8,
   "metadata": {},
   "outputs": [],
   "source": [
    "df.to_csv(f\"{folder_enrich}/reactions_RECON3D.csv\", index=False)"
   ]
  },
  {
   "cell_type": "code",
   "execution_count": 9,
   "metadata": {},
   "outputs": [
    {
     "data": {
      "text/html": [
       "<div>\n",
       "<style scoped>\n",
       "    .dataframe tbody tr th:only-of-type {\n",
       "        vertical-align: middle;\n",
       "    }\n",
       "\n",
       "    .dataframe tbody tr th {\n",
       "        vertical-align: top;\n",
       "    }\n",
       "\n",
       "    .dataframe thead th {\n",
       "        text-align: right;\n",
       "    }\n",
       "</style>\n",
       "<table border=\"1\" class=\"dataframe\">\n",
       "  <thead>\n",
       "    <tr style=\"text-align: right;\">\n",
       "      <th></th>\n",
       "      <th>reaction</th>\n",
       "      <th>FC</th>\n",
       "      <th>p</th>\n",
       "      <th>q</th>\n",
       "      <th>enrichment</th>\n",
       "      <th>changed</th>\n",
       "    </tr>\n",
       "  </thead>\n",
       "  <tbody>\n",
       "    <tr>\n",
       "      <th>0</th>\n",
       "      <td>12PPDRte</td>\n",
       "      <td>-121.113373</td>\n",
       "      <td>6.607762e-199</td>\n",
       "      <td>9.286475e-199</td>\n",
       "      <td>-1</td>\n",
       "      <td>1</td>\n",
       "    </tr>\n",
       "    <tr>\n",
       "      <th>1</th>\n",
       "      <td>1a_24_25VITD2Hm</td>\n",
       "      <td>-1.000000</td>\n",
       "      <td>0.000000e+00</td>\n",
       "      <td>0.000000e+00</td>\n",
       "      <td>-1</td>\n",
       "      <td>1</td>\n",
       "    </tr>\n",
       "    <tr>\n",
       "      <th>2</th>\n",
       "      <td>24_25VITD2Hm</td>\n",
       "      <td>-1.000000</td>\n",
       "      <td>0.000000e+00</td>\n",
       "      <td>0.000000e+00</td>\n",
       "      <td>-1</td>\n",
       "      <td>1</td>\n",
       "    </tr>\n",
       "    <tr>\n",
       "      <th>3</th>\n",
       "      <td>25HVITD2tin_m</td>\n",
       "      <td>-1.000000</td>\n",
       "      <td>0.000000e+00</td>\n",
       "      <td>0.000000e+00</td>\n",
       "      <td>-1</td>\n",
       "      <td>1</td>\n",
       "    </tr>\n",
       "    <tr>\n",
       "      <th>7</th>\n",
       "      <td>2MOPtm</td>\n",
       "      <td>-1.000000</td>\n",
       "      <td>0.000000e+00</td>\n",
       "      <td>0.000000e+00</td>\n",
       "      <td>-1</td>\n",
       "      <td>1</td>\n",
       "    </tr>\n",
       "    <tr>\n",
       "      <th>...</th>\n",
       "      <td>...</td>\n",
       "      <td>...</td>\n",
       "      <td>...</td>\n",
       "      <td>...</td>\n",
       "      <td>...</td>\n",
       "      <td>...</td>\n",
       "    </tr>\n",
       "    <tr>\n",
       "      <th>2282</th>\n",
       "      <td>r2434</td>\n",
       "      <td>-133.956475</td>\n",
       "      <td>0.000000e+00</td>\n",
       "      <td>0.000000e+00</td>\n",
       "      <td>-1</td>\n",
       "      <td>1</td>\n",
       "    </tr>\n",
       "    <tr>\n",
       "      <th>2286</th>\n",
       "      <td>r2506</td>\n",
       "      <td>-31.424564</td>\n",
       "      <td>0.000000e+00</td>\n",
       "      <td>0.000000e+00</td>\n",
       "      <td>-1</td>\n",
       "      <td>1</td>\n",
       "    </tr>\n",
       "    <tr>\n",
       "      <th>2287</th>\n",
       "      <td>r2510</td>\n",
       "      <td>-55.556888</td>\n",
       "      <td>0.000000e+00</td>\n",
       "      <td>0.000000e+00</td>\n",
       "      <td>-1</td>\n",
       "      <td>1</td>\n",
       "    </tr>\n",
       "    <tr>\n",
       "      <th>2290</th>\n",
       "      <td>r2520</td>\n",
       "      <td>-85.137898</td>\n",
       "      <td>1.140072e-69</td>\n",
       "      <td>1.373472e-69</td>\n",
       "      <td>-1</td>\n",
       "      <td>1</td>\n",
       "    </tr>\n",
       "    <tr>\n",
       "      <th>2293</th>\n",
       "      <td>r2538</td>\n",
       "      <td>-211.133116</td>\n",
       "      <td>0.000000e+00</td>\n",
       "      <td>0.000000e+00</td>\n",
       "      <td>-1</td>\n",
       "      <td>1</td>\n",
       "    </tr>\n",
       "  </tbody>\n",
       "</table>\n",
       "<p>784 rows × 6 columns</p>\n",
       "</div>"
      ],
      "text/plain": [
       "             reaction          FC              p              q  enrichment  \\\n",
       "0            12PPDRte -121.113373  6.607762e-199  9.286475e-199          -1   \n",
       "1     1a_24_25VITD2Hm   -1.000000   0.000000e+00   0.000000e+00          -1   \n",
       "2        24_25VITD2Hm   -1.000000   0.000000e+00   0.000000e+00          -1   \n",
       "3       25HVITD2tin_m   -1.000000   0.000000e+00   0.000000e+00          -1   \n",
       "7              2MOPtm   -1.000000   0.000000e+00   0.000000e+00          -1   \n",
       "...               ...         ...            ...            ...         ...   \n",
       "2282            r2434 -133.956475   0.000000e+00   0.000000e+00          -1   \n",
       "2286            r2506  -31.424564   0.000000e+00   0.000000e+00          -1   \n",
       "2287            r2510  -55.556888   0.000000e+00   0.000000e+00          -1   \n",
       "2290            r2520  -85.137898   1.140072e-69   1.373472e-69          -1   \n",
       "2293            r2538 -211.133116   0.000000e+00   0.000000e+00          -1   \n",
       "\n",
       "      changed  \n",
       "0           1  \n",
       "1           1  \n",
       "2           1  \n",
       "3           1  \n",
       "7           1  \n",
       "...       ...  \n",
       "2282        1  \n",
       "2286        1  \n",
       "2287        1  \n",
       "2290        1  \n",
       "2293        1  \n",
       "\n",
       "[784 rows x 6 columns]"
      ]
     },
     "execution_count": 9,
     "metadata": {},
     "output_type": "execute_result"
    }
   ],
   "source": [
    "df[df.enrichment == -1]"
   ]
  }
 ],
 "metadata": {
  "kernelspec": {
   "display_name": "metabolic_modeling",
   "language": "python",
   "name": "python3"
  },
  "language_info": {
   "codemirror_mode": {
    "name": "ipython",
    "version": 3
   },
   "file_extension": ".py",
   "mimetype": "text/x-python",
   "name": "python",
   "nbconvert_exporter": "python",
   "pygments_lexer": "ipython3",
   "version": "3.10.11"
  }
 },
 "nbformat": 4,
 "nbformat_minor": 4
}
