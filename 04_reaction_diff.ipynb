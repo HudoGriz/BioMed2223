{
 "cells": [
  {
   "cell_type": "markdown",
   "metadata": {},
   "source": [
    "# Diferenčno izražanje reakcij\n",
    "Primerjali bomo pare reakcij (kontrola, utišanje) na podlagi vzorčenih metabolnih pretokov.\n",
    "\n",
    "Uporabimo lahko npr. test Kolmogorov-Smirnov, ki ne predpostavlja normalne porazdelitve v vzorcih, statistična značilnost razlik pa je ovrednotena s p-vrednostmi.\n",
    "\n",
    "Dodatno bomo opazovali kako močno se reakcije med vzorci razlikujejo (fold-changes):\n",
    "\n",
    "$$FC = \\frac{\\overline{R_{kd}} - \\overline{R_{control}}}{\\left|\\overline{R_{kd}} + \\overline{R_{control}}\\right|}$$"
   ]
  },
  {
   "cell_type": "code",
   "execution_count": null,
   "metadata": {},
   "outputs": [],
   "source": [
    "import pandas as pd\n",
    "import numpy as np\n",
    "\n",
    "from scipy.stats import ks_2samp\n",
    "#import statsmodels.stats.multitest as multi\n",
    "\n",
    "import os.path\n",
    "\n",
    "from helpers import bh"
   ]
  },
  {
   "cell_type": "markdown",
   "metadata": {},
   "source": [
    "### Osnovne nastavitve"
   ]
  },
  {
   "cell_type": "code",
   "execution_count": null,
   "metadata": {},
   "outputs": [],
   "source": [
    "require_biomass = True\n",
    "folder_samples = os.path.join('samples','biomass') if require_biomass else os.path.join('samples','no_biomass')\n",
    "folder_enrich = os.path.join('enrichment','biomass') if require_biomass else os.path.join('enrichment','no_biomass')"
   ]
  },
  {
   "cell_type": "markdown",
   "metadata": {},
   "source": [
    "### Branje iz datotek"
   ]
  },
  {
   "cell_type": "code",
   "execution_count": null,
   "metadata": {},
   "outputs": [],
   "source": [
    "df_control = pd.read_csv(os.path.join(f'{folder_samples}','samples_control.csv'))\n",
    "df_kd = pd.read_csv(os.path.join(f'{folder_samples}','samples_kd.csv'))"
   ]
  },
  {
   "cell_type": "code",
   "execution_count": null,
   "metadata": {},
   "outputs": [],
   "source": [
    "reactions = sorted(list(set(df_control.columns) | set(df_kd.columns)))\n",
    "len(reactions) # število reakcij"
   ]
  },
  {
   "cell_type": "markdown",
   "metadata": {},
   "source": [
    "### Diferenčna aktivnost reakcij"
   ]
  },
  {
   "cell_type": "code",
   "execution_count": null,
   "metadata": {},
   "outputs": [],
   "source": [
    "df = pd.DataFrame(columns=['reaction', 'FC', 'p', 'q', 'enrichment', 'changed'])\n",
    "df['reaction']=reactions\n",
    "\n",
    "n_samples = df_control.shape[0]\n",
    "\n",
    "# sprehodimo se čez vse reakcije\n",
    "for reaction in reactions:\n",
    "    if reaction in df_control.columns:\n",
    "        control = df_control[reaction].values\n",
    "    else:\n",
    "        # če reakcije ni v kontrolni skupini, ji pripišemo same ničle\n",
    "        control = np.zeros(n_samples)\n",
    "        \n",
    "    if reaction in df_kd.columns:\n",
    "        kd = df_kd[reaction].values\n",
    "    else:\n",
    "        # če reakcije ni v kd skupini, ji pripišemo same ničle\n",
    "        kd = np.zeros(n_samples)\n",
    "        \n",
    "    # iztračunamo sredino za kontrolo in kd\n",
    "    mean_control = np.mean(control)\n",
    "    mean_kd = np.mean(kd)\n",
    "    \n",
    "    # izračunamo FC - fold change in signifikanco z uporabo 2 sample Kolmogorov-Smirnov testa\n",
    "    if mean_control != 0 or mean_kd != 0:\n",
    "        FC = mean_kd-mean_control/(abs(mean_kd + mean_control))\n",
    "        p = ks_2samp(control,kd)[1]\n",
    "    else:\n",
    "        FC = 0\n",
    "        p = 1     \n",
    "        \n",
    "    df.loc[df['reaction']==reaction, 'FC'] = FC\n",
    "    df.loc[df['reaction']==reaction, 'p'] = p\n",
    "    \n",
    "    \n",
    "# korigiramo p vrednosti za večkratno testiranje - FDR korekcija\n",
    "df['q'] = bh(df['p'])\n",
    "\n",
    "# signifikanca zahteva vsaj 10-kratno up-/down-regulacijo\n",
    "df.loc[(df['FC'] >= 0.82) & (df['q'] < 0.05),'enrichment'] = 1\n",
    "df.loc[(df['FC'] <= -0.82) & (df['q'] < 0.05),'enrichment'] = -1\n",
    "df.loc[~df['enrichment'].isna(),'changed'] = 1\n",
    "df = df.fillna(0)\n",
    "    \n",
    "    "
   ]
  },
  {
   "cell_type": "code",
   "execution_count": null,
   "metadata": {},
   "outputs": [],
   "source": [
    "df.to_csv(f\"{folder_enrich}\\\\reactions.csv\", index=False)"
   ]
  },
  {
   "cell_type": "code",
   "execution_count": null,
   "metadata": {},
   "outputs": [],
   "source": []
  }
 ],
 "metadata": {
  "kernelspec": {
   "display_name": "metabolic",
   "language": "python",
   "name": "metabolic"
  },
  "language_info": {
   "codemirror_mode": {
    "name": "ipython",
    "version": 3
   },
   "file_extension": ".py",
   "mimetype": "text/x-python",
   "name": "python",
   "nbconvert_exporter": "python",
   "pygments_lexer": "ipython3",
   "version": "3.11.0"
  }
 },
 "nbformat": 4,
 "nbformat_minor": 4
}
