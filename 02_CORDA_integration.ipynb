{
 "cells": [
  {
   "cell_type": "code",
   "execution_count": null,
   "metadata": {
    "ExecuteTime": {
     "end_time": "2023-04-19T07:11:44.108119Z",
     "start_time": "2023-04-19T07:11:36.469033Z"
    }
   },
   "outputs": [],
   "source": [
    "import pandas as pd\n",
    "import cobra\n",
    "\n",
    "from cobra.io import load_model\n",
    "\n",
    "import numpy as np\n",
    "import pickle\n",
    "\n",
    "import os.path"
   ]
  },
  {
   "cell_type": "markdown",
   "metadata": {},
   "source": [
    "Ponovno preberemo model:"
   ]
  },
  {
   "cell_type": "code",
   "execution_count": null,
   "metadata": {
    "ExecuteTime": {
     "end_time": "2023-04-19T07:13:04.074549Z",
     "start_time": "2023-04-19T07:12:13.120009Z"
    }
   },
   "outputs": [],
   "source": [
    "model = cobra.io.read_sbml_model(os.path.join('models','Recon3D.xml'))"
   ]
  },
  {
   "cell_type": "markdown",
   "metadata": {},
   "source": [
    "Pripravimo si slovarja `id gena` --> `ime gena` in obratno:"
   ]
  },
  {
   "cell_type": "code",
   "execution_count": null,
   "metadata": {
    "ExecuteTime": {
     "end_time": "2023-04-19T07:13:07.234685Z",
     "start_time": "2023-04-19T07:13:07.194738Z"
    }
   },
   "outputs": [],
   "source": [
    "gene_id_name = {} # seznam ID genov\n",
    "gene_name_id = {} # seznam imen genov\n",
    "\n",
    "for g in model.genes[1:]:\n",
    "    gene_id_name[g.id] = g.name\n",
    "    gene_name_id[g.name] = g.id"
   ]
  },
  {
   "cell_type": "code",
   "execution_count": null,
   "metadata": {
    "ExecuteTime": {
     "end_time": "2023-04-19T07:16:00.807536Z",
     "start_time": "2023-04-19T07:16:00.757847Z"
    },
    "collapsed": false,
    "jupyter": {
     "outputs_hidden": false
    }
   },
   "outputs": [],
   "source": [
    "list(gene_id_name.items())[:5] # prvih 5 elementov v slovarju, ki ID gena poveže z imenom"
   ]
  },
  {
   "cell_type": "code",
   "execution_count": null,
   "metadata": {
    "ExecuteTime": {
     "end_time": "2023-04-19T07:16:35.854273Z",
     "start_time": "2023-04-19T07:16:35.830838Z"
    },
    "collapsed": false,
    "jupyter": {
     "outputs_hidden": false
    }
   },
   "outputs": [],
   "source": [
    "list(gene_name_id.items())[:5] # prvih 5 elementov v slovarju, ki ime gena poveže z ID"
   ]
  },
  {
   "cell_type": "markdown",
   "metadata": {},
   "source": [
    "Preberimo podatke, ki smo jih prej shranili:"
   ]
  },
  {
   "cell_type": "code",
   "execution_count": null,
   "metadata": {},
   "outputs": [],
   "source": [
    "df_control = pd.read_csv(os.path.join('data','data_control.txt'))\n",
    "df_kd = pd.read_csv(os.path.join('data','data_kd.txt'))"
   ]
  },
  {
   "cell_type": "markdown",
   "metadata": {},
   "source": [
    "Imenom genov pripišimo še ustrezne ID-je:"
   ]
  },
  {
   "cell_type": "code",
   "execution_count": null,
   "metadata": {},
   "outputs": [],
   "source": [
    "df_control['gene_id'] = df_control['gene'].map(lambda x: gene_name_id[x] if x in gene_name_id else \"\")\n",
    "df_kd['gene_id'] = df_kd['gene'].map(lambda x: gene_name_id[x] if x in gene_name_id else \"\")"
   ]
  },
  {
   "cell_type": "code",
   "execution_count": null,
   "metadata": {},
   "outputs": [],
   "source": [
    "df_control"
   ]
  },
  {
   "cell_type": "markdown",
   "metadata": {},
   "source": [
    "Ohranimo samo tiste vnose, ki jih imamo v modelu:"
   ]
  },
  {
   "cell_type": "code",
   "execution_count": null,
   "metadata": {},
   "outputs": [],
   "source": [
    "df_control = df_control[df_control['gene_id'] != \"\"]\n",
    "df_kd = df_kd[df_kd['gene_id'] != \"\"]"
   ]
  },
  {
   "cell_type": "code",
   "execution_count": null,
   "metadata": {},
   "outputs": [],
   "source": [
    "len(df_control), len(df_kd)"
   ]
  },
  {
   "cell_type": "code",
   "execution_count": null,
   "metadata": {},
   "outputs": [],
   "source": [
    "df_control.describe()"
   ]
  },
  {
   "cell_type": "code",
   "execution_count": null,
   "metadata": {},
   "outputs": [],
   "source": [
    "df_kd.describe()"
   ]
  },
  {
   "cell_type": "markdown",
   "metadata": {},
   "source": [
    "### Integracija transkriptomskih podatkov v model"
   ]
  },
  {
   "cell_type": "markdown",
   "metadata": {},
   "source": [
    "Uporabili bomo algoritem CORDA:\n",
    "\n",
    "* [https://resendislab.github.io/corda/](https://resendislab.github.io/corda/)\n",
    "* [https://github.com/resendislab/corda](https://github.com/resendislab/corda)\n",
    "\n",
    "Funkcija za rekonstrukcijo kot argument sprejme model in preslikavo `confidence`, ki za vsako reakcijo poda mero zaupanja, da je vsebovana v modelu:\n",
    "```\n",
    "Allowed confidence values\n",
    "            are -1 (absent/do not include), 0 (unknown), 1 (low confidence),\n",
    "            2 (medium confidence) and 3 (high confidence).\n",
    "```\n",
    "\n",
    "`confidence` si lahko pripravimo z uporabo CORDA funkcije `reaction_confidence`, ki preslika stopnje izražanja genov (po enaki lestvici kot zgoraj) v stopnje aktivnosti reakcij z uporabo pravil GPR.\n",
    "\n",
    "\n",
    "Dodatno lahko nastavimo zmožnost modela, da producira biomaso:\n",
    "```\n",
    "met_prod (Optional[list]): Additional metabolic targets that have to be\n",
    "            achieved by the model. Can be a single object or list of objects.\n",
    "            List elements can be given in various forms:\n",
    "            (1) A string naming a metabolite in the model will ensure that the\n",
    "            metabolite can be produced.\n",
    "            For instance: met_prod = [\"pi_c\", \"atp_c\"]\n",
    "            (2) A dictionary of metabolite -> int will define an irreversible\n",
    "            reaction that must be able to carry flux.\n",
    "            For instance: met_prod = {\"adp_c\": -1, \"pi_c\": -1, \"atp_c\": 1}\n",
    "            (3) A string representation of a reversible or irreversible\n",
    "            reaction that must be able to carry flux.\n",
    "            For instance: met_prod = \"adp_c + pi_c -> atp_c\"\n",
    "\n",
    "```\n",
    "Primer priprave niza `met_prod`:\n",
    "```Python\n",
    "met_prod = model.reactions.BIOMASS_maintenance.build_reaction_string()\n",
    "met_prod = met_prod.replace(\"-->\", \"->\")\n",
    "```\n"
   ]
  },
  {
   "cell_type": "code",
   "execution_count": null,
   "metadata": {},
   "outputs": [],
   "source": [
    "biomass = model.reactions.BIOMASS_maintenance.build_reaction_string().replace(\"-->\", \"->\")\n",
    "biomass"
   ]
  },
  {
   "cell_type": "markdown",
   "metadata": {},
   "source": [
    "### Preslikava izražanja genov v prisotnosti reakcij"
   ]
  },
  {
   "cell_type": "code",
   "execution_count": null,
   "metadata": {},
   "outputs": [],
   "source": [
    "from corda import reaction_confidence\n",
    "from corda import CORDA"
   ]
  },
  {
   "cell_type": "markdown",
   "metadata": {},
   "source": [
    "Pomagali si bomo s funkcijo, ki bo preslikala izražanje genov v vrednosti -1, 0, 1, 2 in 3 preko vnaprej definiranih pragov."
   ]
  },
  {
   "cell_type": "code",
   "execution_count": null,
   "metadata": {},
   "outputs": [],
   "source": [
    "def val_to_score(val, thr0, thr1, thr2, thr3):\n",
    "    if val < thr0:\n",
    "        return -1\n",
    "    elif val < thr1:\n",
    "        return 0\n",
    "    elif val < thr2:\n",
    "        return 1\n",
    "    elif val < thr3:\n",
    "        return 2\n",
    "    else:\n",
    "        return 3"
   ]
  },
  {
   "cell_type": "markdown",
   "metadata": {},
   "source": [
    "#### Parametri rekonstrukcije\n",
    "Pragove bomo definirali preko odstotne aktivnosti genov v vzrocu. Obstaja veliko različnih strategij, kako se tega problema lotiti. Nekaj več o tem si lahko preberete v [članku](https://doi.org/10.1371/journal.pcbi.1007185)."
   ]
  },
  {
   "cell_type": "code",
   "execution_count": null,
   "metadata": {},
   "outputs": [],
   "source": [
    "require_biomass = True\n",
    "perc0 = 25 # below this ... inactive\n",
    "perc1 = 50 # else, below this ... not sure\n",
    "perc2 = 75 # else, below this ...  low confidence\n",
    "perc3 = 95 # else, below this ... medium confidence\n",
    "# else high confidence (above perc3)"
   ]
  },
  {
   "cell_type": "code",
   "execution_count": null,
   "metadata": {},
   "outputs": [],
   "source": [
    "folder = os.path.join('models','biomass') if require_biomass else os.path.join('models','no_biomass')\n",
    "folder"
   ]
  },
  {
   "cell_type": "markdown",
   "metadata": {},
   "source": [
    "### Kontrola\n",
    "Za vsako skupino bomo določili lastne pragove glede na aktivnosti genov:"
   ]
  },
  {
   "cell_type": "code",
   "execution_count": null,
   "metadata": {},
   "outputs": [],
   "source": [
    "thr0 = np.percentile(df_control.value, perc0)\n",
    "thr1 = np.percentile(df_control.value, perc1)\n",
    "thr2 = np.percentile(df_control.value, perc2)\n",
    "thr3 = np.percentile(df_control.value, perc3)"
   ]
  },
  {
   "cell_type": "markdown",
   "metadata": {},
   "source": [
    "Najprej preslikajmo intenziteto izražanja genov v skupine:"
   ]
  },
  {
   "cell_type": "code",
   "execution_count": null,
   "metadata": {},
   "outputs": [],
   "source": [
    "#gene_conf_control = {g_id:-1 if val < thr0 else 1 if val < thr1 else 2 if val < thr2 else 3 for (g_id, val) in zip(df_control['gene_id'], df_control['value'])}\n",
    "gene_conf_control = {g_id : val_to_score(val, thr0, thr1, thr2, thr3) for (g_id, val) in zip(df_control['gene_id'], df_control['value'])}"
   ]
  },
  {
   "cell_type": "markdown",
   "metadata": {},
   "source": [
    "Potem poženimo integracijo z algoritmom:\n",
    "\n",
    "**POZOR: časovno potratno! Spodnje celice lahko preskočiš in podatke prebereš iz datoteke (spodaj).**"
   ]
  },
  {
   "cell_type": "code",
   "execution_count": null,
   "metadata": {},
   "outputs": [],
   "source": [
    "if require_biomass:\n",
    "    opt_control = CORDA(model, conf_control, met_prod = biomass)\n",
    "else:\n",
    "    opt_control = CORDA(model, conf_control)\n",
    "opt_control.build()\n",
    "print(opt_control)"
   ]
  },
  {
   "cell_type": "code",
   "execution_count": null,
   "metadata": {},
   "outputs": [],
   "source": [
    "conf_control = {}\n",
    "for r in model.reactions:\n",
    "    conf_control[r.id] = reaction_confidence(r, gene_conf_control)"
   ]
  },
  {
   "cell_type": "markdown",
   "metadata": {},
   "source": [
    "Model pretvorimo v COBRA zapis:"
   ]
  },
  {
   "cell_type": "code",
   "execution_count": null,
   "metadata": {},
   "outputs": [],
   "source": [
    "model_control = opt_control.cobra_model()"
   ]
  },
  {
   "cell_type": "markdown",
   "metadata": {},
   "source": [
    "In mu dodajmo še biomaso:"
   ]
  },
  {
   "cell_type": "code",
   "execution_count": null,
   "metadata": {},
   "outputs": [],
   "source": [
    "if require_biomass:\n",
    "    model_control.add_reactions([model.reactions.BIOMASS_maintenance])\n",
    "    model_control.objective=model.objective"
   ]
  },
  {
   "cell_type": "markdown",
   "metadata": {},
   "source": [
    "Model lahko zdaj shranimo v SBML zapis:"
   ]
  },
  {
   "cell_type": "code",
   "execution_count": null,
   "metadata": {},
   "outputs": [],
   "source": [
    "cobra.io.write_sbml_model(model_control, os.path.join(f'{folder}','model_control.xml'))"
   ]
  },
  {
   "cell_type": "markdown",
   "metadata": {},
   "source": [
    "**Branje iz datoteke (če ste prejšnje korake preskočili).**"
   ]
  },
  {
   "cell_type": "code",
   "execution_count": null,
   "metadata": {},
   "outputs": [],
   "source": [
    "model_control = cobra.io.read_sbml_model(os.path.join(f'{folder}','model_control.xml'))"
   ]
  },
  {
   "cell_type": "code",
   "execution_count": null,
   "metadata": {},
   "outputs": [],
   "source": [
    "model_control.summary()"
   ]
  },
  {
   "cell_type": "markdown",
   "metadata": {},
   "source": [
    "### Knockdown\n",
    "\n",
    "Ponovimo podoben postopek za podatke z utišanim onkogenom:"
   ]
  },
  {
   "cell_type": "code",
   "execution_count": null,
   "metadata": {},
   "outputs": [],
   "source": [
    "thr0 = np.percentile(df_kd.value, perc0)\n",
    "thr1 = np.percentile(df_kd.value, perc1)\n",
    "thr2 = np.percentile(df_kd.value, perc2)\n",
    "thr3 = np.percentile(df_kd.value, perc3)"
   ]
  },
  {
   "cell_type": "code",
   "execution_count": null,
   "metadata": {},
   "outputs": [],
   "source": [
    "gene_conf_kd = {g_id : val_to_score(val, thr0, thr1, thr2, thr3) for (g_id, val) in zip(df_kd['gene_id'], df_kd['value'])}"
   ]
  },
  {
   "cell_type": "code",
   "execution_count": null,
   "metadata": {},
   "outputs": [],
   "source": [
    "conf_kd = {}\n",
    "for r in model.reactions:\n",
    "    conf_kd[r.id] = reaction_confidence(r, gene_conf_kd)"
   ]
  },
  {
   "cell_type": "markdown",
   "metadata": {},
   "source": [
    "**POZOR: časovno potratno! Spodnje celice lahko preskočiš in podatke prebereš iz datoteke (spodaj).**"
   ]
  },
  {
   "cell_type": "code",
   "execution_count": null,
   "metadata": {},
   "outputs": [],
   "source": [
    "if require_biomass:\n",
    "    opt_kd = CORDA(model, conf_kd, met_prod = biomass)\n",
    "else:\n",
    "    opt_kd = CORDA(model, conf_kd)\n",
    "opt_kd.build()\n",
    "print(opt_kd)"
   ]
  },
  {
   "cell_type": "code",
   "execution_count": null,
   "metadata": {},
   "outputs": [],
   "source": [
    "model_kd = opt_kd.cobra_model()"
   ]
  },
  {
   "cell_type": "code",
   "execution_count": null,
   "metadata": {},
   "outputs": [],
   "source": [
    "if require_biomass:\n",
    "    model_kd.add_reactions([model.reactions.BIOMASS_maintenance])\n",
    "    model_kd.objective=model.objective   "
   ]
  },
  {
   "cell_type": "code",
   "execution_count": null,
   "metadata": {},
   "outputs": [],
   "source": [
    "cobra.io.write_sbml_model(model_kd, os.path.join(f'{folder}','model_kd.xml'))"
   ]
  },
  {
   "cell_type": "markdown",
   "metadata": {},
   "source": [
    "**Branje iz datoteke (če ste prejšnje korake preskočili).**"
   ]
  },
  {
   "cell_type": "code",
   "execution_count": null,
   "metadata": {},
   "outputs": [],
   "source": [
    "model_kd = cobra.io.read_sbml_model(os.path.join(f'{folder}','model_kd.xml'))"
   ]
  },
  {
   "cell_type": "code",
   "execution_count": null,
   "metadata": {},
   "outputs": [],
   "source": [
    "model_kd.summary()"
   ]
  }
 ],
 "metadata": {
  "kernelspec": {
   "display_name": "metabolic",
   "language": "python",
   "name": "metabolic"
  },
  "language_info": {
   "codemirror_mode": {
    "name": "ipython",
    "version": 3
   },
   "file_extension": ".py",
   "mimetype": "text/x-python",
   "name": "python",
   "nbconvert_exporter": "python",
   "pygments_lexer": "ipython3",
   "version": "3.11.0"
  }
 },
 "nbformat": 4,
 "nbformat_minor": 4
}
