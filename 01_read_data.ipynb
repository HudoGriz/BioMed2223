{
 "cells": [
  {
   "cell_type": "markdown",
   "metadata": {},
   "source": [
    "## Branje podatkov"
   ]
  },
  {
   "cell_type": "code",
   "execution_count": null,
   "metadata": {},
   "outputs": [],
   "source": [
    "import pandas as pd\n",
    "import os.path"
   ]
  },
  {
   "cell_type": "markdown",
   "metadata": {},
   "source": [
    "Preberemo podatke z intenzitetani izražanja genov, eksperimentalno pridobljenih z DNA microarray:"
   ]
  },
  {
   "cell_type": "code",
   "execution_count": null,
   "metadata": {},
   "outputs": [],
   "source": [
    "df = pd.read_csv(os.path.join('data','data.txt'), comment=\"#\", sep=\"\\t\")"
   ]
  },
  {
   "cell_type": "markdown",
   "metadata": {},
   "source": [
    "Kaj podatki vsebujejo?"
   ]
  },
  {
   "cell_type": "code",
   "execution_count": null,
   "metadata": {},
   "outputs": [],
   "source": [
    "df.columns"
   ]
  },
  {
   "cell_type": "markdown",
   "metadata": {},
   "source": [
    "Stolpca `'1 Avg (log2)'` in `'2 Avg (log2)'` vsebujeta povprečne intenzitete treh kontrol in treh vzorcev z utišanjem proteina ESRP2. Zadnjih 6 stolpcev predstavlja izmerjene intenzitete pri vseh 6 vzorchih (3 x kontrola, 3 x knockdown). Eksperiment je opisan v [članku](https://www.mdpi.com/1422-0067/22/14/7477).\n",
    "\n",
    "Zanimata nas zgolj stolpca s povprečji skupaj z imeni genov, ki jih uporablja tudi GEM:"
   ]
  },
  {
   "cell_type": "code",
   "execution_count": null,
   "metadata": {},
   "outputs": [],
   "source": [
    "df1 = df[['Gene Symbol', '1 Avg (log2)']]\n",
    "df2 = df[['Gene Symbol', '2 Avg (log2)']] "
   ]
  },
  {
   "cell_type": "markdown",
   "metadata": {},
   "source": [
    "Podatke si shranimo v ločeni datoteki:"
   ]
  },
  {
   "cell_type": "code",
   "execution_count": null,
   "metadata": {},
   "outputs": [],
   "source": [
    "df1.columns=['gene', 'value']\n",
    "df2.columns=['gene', 'value']\n",
    "\n",
    "df1.to_csv(os.path.join('data','data_control.txt'), index=False)\n",
    "df2.to_csv(os.path.join('data','data_kd.txt'), index=False)\n"
   ]
  }
 ],
 "metadata": {
  "kernelspec": {
   "display_name": "metabolic",
   "language": "python",
   "name": "metabolic"
  },
  "language_info": {
   "codemirror_mode": {
    "name": "ipython",
    "version": 3
   },
   "file_extension": ".py",
   "mimetype": "text/x-python",
   "name": "python",
   "nbconvert_exporter": "python",
   "pygments_lexer": "ipython3",
   "version": "3.11.0"
  }
 },
 "nbformat": 4,
 "nbformat_minor": 4
}
