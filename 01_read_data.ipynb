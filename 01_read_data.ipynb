{
 "cells": [
  {
   "attachments": {},
   "cell_type": "markdown",
   "metadata": {},
   "source": [
    "## Branje podatkov"
   ]
  },
  {
   "cell_type": "code",
   "execution_count": 2,
   "metadata": {},
   "outputs": [],
   "source": [
    "import pandas as pd\n",
    "import os.path\n",
    "import math"
   ]
  },
  {
   "attachments": {},
   "cell_type": "markdown",
   "metadata": {},
   "source": [
    "Preberemo podatke z intenzitetani izražanja genov, eksperimentalno pridobljenih z DNA mirkomrežami:"
   ]
  },
  {
   "cell_type": "code",
   "execution_count": 3,
   "metadata": {},
   "outputs": [],
   "source": [
    "df = pd.read_csv(os.path.join('data','SALMON_DESeq2_normCounts.csv'), comment=\"#\", sep=\"\\t\")"
   ]
  },
  {
   "attachments": {},
   "cell_type": "markdown",
   "metadata": {},
   "source": [
    "Kaj podatki vsebujejo?"
   ]
  },
  {
   "cell_type": "code",
   "execution_count": 4,
   "metadata": {},
   "outputs": [
    {
     "name": "stdout",
     "output_type": "stream",
     "text": [
      "Index(['ID', 'baseMean', 'log2FoldChange', 'lfcSE', 'stat', 'pvalue', 'padj',\n",
      "       'hgnc_symbol', 'description', 'X1T_S6_UMI', 'X1N_S1_UMI', 'X2T_S7_UMI',\n",
      "       'X2N_S2_UMI', 'X3T_S8_UMI', 'X3N_S3_UMI', 'X4T_S9_UMI', 'X4N_S4_UMI',\n",
      "       'X5T_S10_UMI', 'X5N_S5_UMI', 'X7T_S15_UMI', 'X7N_S11_UMI',\n",
      "       'X8T_S16_UMI', 'X8N_S12_UMI', 'X9TD_S18_UMI', 'X9N_S13_UMI',\n",
      "       'X10T1_S19_UMI', 'X10N_S14_UMI'],\n",
      "      dtype='object')\n",
      "1791\n",
      "0.1619056228530103\n"
     ]
    }
   ],
   "source": [
    "print(df.columns)\n",
    "df[['hgnc_symbol']]\n",
    "\n",
    "# Get the number fo NaNs in th hgnc_symbol column\n",
    "print(df['hgnc_symbol'].isna().sum())\n",
    "\n",
    "# Get the percent fo NaNs in th hgnc_symbol column\n",
    "print(df['hgnc_symbol'].isna().sum() / len(df['hgnc_symbol']))"
   ]
  },
  {
   "cell_type": "code",
   "execution_count": 5,
   "metadata": {},
   "outputs": [],
   "source": [
    "# Remove all rows where hgnc_symbol is NaN\n",
    "df = df[~df['hgnc_symbol'].isna()]"
   ]
  },
  {
   "attachments": {},
   "cell_type": "markdown",
   "metadata": {},
   "source": [
    "Stolpci XnT_Sx_UMI vsebujejo normalizirane vrednosti kartiranih RNAseq odčitkov, vzorcev z WILS tumorjem ledvic.\n",
    "Stolpci XnN_Sx_UMI vsebujejo normalizirane vrednosti kartiranih RNAseq odčitkov, normalnih vzorcev.\n",
    "\n",
    "Vrednosti je potrebno skalirati in izračunati povprečne vrednosti.\n",
    "\n",
    "Zanimata nas zgolj stolpca s povprečji skupaj z imeni genov, ki jih uporablja tudi GEM:"
   ]
  },
  {
   "cell_type": "code",
   "execution_count": 6,
   "metadata": {},
   "outputs": [
    {
     "data": {
      "text/plain": [
       "<Axes: >"
      ]
     },
     "execution_count": 6,
     "metadata": {},
     "output_type": "execute_result"
    },
    {
     "data": {
      "image/png": "[encoded data removed]",
      "text/plain": [
       "<Figure size 640x480 with 1 Axes>"
      ]
     },
     "metadata": {},
     "output_type": "display_data"
    }
   ],
   "source": [
    "df_tumor = df[[\n",
    "    'X1T_S6_UMI',\n",
    "    'X2T_S7_UMI',\n",
    "    'X3T_S8_UMI',\n",
    "    'X4T_S9_UMI',\n",
    "    'X5T_S10_UMI',\n",
    "    'X7T_S15_UMI',\n",
    "    'X8T_S16_UMI',\n",
    "    'X9TD_S18_UMI',\n",
    "    'X10T1_S19_UMI'\n",
    "]]\n",
    "\n",
    "# Sum +1 to all values\n",
    "df_tumor = df_tumor.applymap(lambda x: x + 1)\n",
    "\n",
    "# Log2 transform all tumor values  \n",
    "df_tumor = df_tumor.applymap(lambda x: math.log2(x))\n",
    "\n",
    "# Get average of tumor samples\n",
    "df_tumor['value'] = df_tumor.mean(axis=1)\n",
    "\n",
    "# Plot histogram of average\n",
    "df_tumor['value'].hist()"
   ]
  },
  {
   "cell_type": "code",
   "execution_count": 7,
   "metadata": {},
   "outputs": [
    {
     "data": {
      "text/plain": [
       "<Axes: >"
      ]
     },
     "execution_count": 7,
     "metadata": {},
     "output_type": "execute_result"
    },
    {
     "data": {
      "image/png": "[encoded data removed]",
      "text/plain": [
       "<Figure size 640x480 with 1 Axes>"
      ]
     },
     "metadata": {},
     "output_type": "display_data"
    }
   ],
   "source": [
    "df_normal = df[[\n",
    "    'X1N_S1_UMI',\n",
    "    'X2N_S2_UMI',\n",
    "    'X3N_S3_UMI',\n",
    "    'X4N_S4_UMI',\n",
    "    'X5N_S5_UMI',\n",
    "    'X7N_S11_UMI',\n",
    "    'X8N_S12_UMI',\n",
    "    'X9N_S13_UMI',\n",
    "    'X10N_S14_UMI'\n",
    "    ]]\n",
    "\n",
    "# Sum +1 to all values\n",
    "df_normal = df_normal.applymap(lambda x: x + 1)\n",
    "\n",
    "# Log2 transform all normal values  \n",
    "df_normal = df_normal.applymap(lambda x: math.log2(x))\n",
    "\n",
    "# Get average of normal samples\n",
    "df_normal['value'] = df_normal.mean(axis=1)\n",
    "\n",
    "# Plot histogram of average\n",
    "df_normal['value'].hist()"
   ]
  },
  {
   "attachments": {},
   "cell_type": "markdown",
   "metadata": {},
   "source": [
    "Podatke si shranimo v ločeni datoteki:"
   ]
  },
  {
   "cell_type": "code",
   "execution_count": 8,
   "metadata": {},
   "outputs": [],
   "source": [
    "# Create new dataframe for tumor, including gene symbol and average\n",
    "df_tumor = pd.concat([df['ID'], df['hgnc_symbol'], df_tumor['value']], axis=1, keys=['ENS_ID', 'gene', 'value'])\n",
    "df_tumor.to_csv(os.path.join('data','data_tumor.txt'), index=False)\n",
    "\n",
    "# Create new dataframe for normal, including gene symbol and average\n",
    "df_normal = pd.concat([df['ID'], df['hgnc_symbol'], df_normal['value']], axis=1, keys=['ENS_ID', 'gene', 'value'])\n",
    "df_normal.to_csv(os.path.join('data','data_normal.txt'), index=False)"
   ]
  }
 ],
 "metadata": {
  "kernelspec": {
   "display_name": "metabolic_modeling",
   "language": "python",
   "name": "python3"
  },
  "language_info": {
   "codemirror_mode": {
    "name": "ipython",
    "version": 3
   },
   "file_extension": ".py",
   "mimetype": "text/x-python",
   "name": "python",
   "nbconvert_exporter": "python",
   "pygments_lexer": "ipython3",
   "version": "3.10.11"
  }
 },
 "nbformat": 4,
 "nbformat_minor": 4
}
