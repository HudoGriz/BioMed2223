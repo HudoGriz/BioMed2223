{
 "cells": [
  {
   "cell_type": "markdown",
   "metadata": {},
   "source": [
    "# Assess the enrichment of metabolic reactions\n",
    "Compares pairs (control, knockdown) on a reaction level based on flux samples. Calculates p-values indicating significance of difference between reaction activities in a healthy and an infected model with the two-sample Kolmogorov–Smirnov test. Also, calculates fold changes of a reaction between a reaction in a healthy ($R_{control}$) and a reaction in an knockdown model ($R_{kd}$):\n",
    "\n",
    "$$FC = \\frac{\\overline{R_{kd}} - \\overline{R_{control}}}{\\left|\\overline{R_{kd}} + \\overline{R_{control}}\\right|}$$"
   ]
  },
  {
   "cell_type": "code",
   "execution_count": 7,
   "metadata": {},
   "outputs": [],
   "source": [
    "import pandas as pd\n",
    "import numpy as np\n",
    "\n",
    "from scipy.stats import ks_2samp\n",
    "#import statsmodels.stats.multitest as multi\n",
    "from helpers import bh"
   ]
  },
  {
   "cell_type": "markdown",
   "metadata": {},
   "source": [
    "### Basic settings"
   ]
  },
  {
   "cell_type": "code",
   "execution_count": 8,
   "metadata": {},
   "outputs": [],
   "source": [
    "require_biomass = False\n",
    "folder_samples = \"samples\\\\biomass\" if require_biomass else \"samples\\\\no_biomass\"\n",
    "folder_enrich = \"enrichment\\\\biomass\" if require_biomass else \"enrichment\\\\no_biomass\""
   ]
  },
  {
   "cell_type": "markdown",
   "metadata": {},
   "source": [
    "### Read the data"
   ]
  },
  {
   "cell_type": "code",
   "execution_count": 9,
   "metadata": {},
   "outputs": [],
   "source": [
    "df_control = pd.read_csv(f\"{folder_samples}\\\\samples_control.csv\")\n",
    "df_kd = pd.read_csv(f\"{folder_samples}\\\\samples_kd.csv\")"
   ]
  },
  {
   "cell_type": "code",
   "execution_count": 10,
   "metadata": {},
   "outputs": [
    {
     "data": {
      "text/plain": [
       "2271"
      ]
     },
     "execution_count": 10,
     "metadata": {},
     "output_type": "execute_result"
    }
   ],
   "source": [
    "reactions = sorted(list(set(df_control.columns) | set(df_kd.columns)))\n",
    "len(reactions)"
   ]
  },
  {
   "cell_type": "markdown",
   "metadata": {},
   "source": [
    "### Reaction enrichment analysis"
   ]
  },
  {
   "cell_type": "code",
   "execution_count": 11,
   "metadata": {},
   "outputs": [],
   "source": [
    "df = pd.DataFrame(columns=['reaction', 'FC', 'p', 'q', 'enrichment', 'changed'])\n",
    "df['reaction']=reactions\n",
    "\n",
    "n_samples = df_control.shape[0]\n",
    "for reaction in reactions:\n",
    "    if reaction in df_control.columns:\n",
    "        control = df_control[reaction].values\n",
    "    else:\n",
    "        control = np.zeros(n_samples)\n",
    "        \n",
    "    if reaction in df_kd.columns:\n",
    "        kd = df_kd[reaction].values\n",
    "    else:\n",
    "        kd = np.zeros(n_samples)\n",
    "        \n",
    "    \n",
    "    mean_control = np.mean(control)\n",
    "    mean_kd = np.mean(kd)\n",
    "    \n",
    "    if mean_control != 0 or mean_kd != 0:\n",
    "        FC = mean_kd-mean_control/(abs(mean_kd + mean_control))\n",
    "        p = ks_2samp(control,kd)[1]\n",
    "    else:\n",
    "        FC = 0\n",
    "        p = 1     \n",
    "        \n",
    "    df.loc[df['reaction']==reaction, 'FC'] = FC\n",
    "    df.loc[df['reaction']==reaction, 'p'] = p\n",
    "    \n",
    "df['q'] = bh(df['p'])\n",
    "df.loc[(df['FC'] >= 0.82) & (df['q'] < 0.05),'enrichment'] = 1\n",
    "df.loc[(df['FC'] <= -0.82) & (df['q'] < 0.05),'enrichment'] = -1\n",
    "df.loc[~df['enrichment'].isna(),'changed'] = 1\n",
    "df = df.fillna(0)\n",
    "    \n",
    "    "
   ]
  },
  {
   "cell_type": "code",
   "execution_count": 12,
   "metadata": {},
   "outputs": [],
   "source": [
    "df.to_csv(f\"{folder_enrich}\\\\reactions.csv\", index=False)"
   ]
  },
  {
   "cell_type": "code",
   "execution_count": 13,
   "metadata": {},
   "outputs": [
    {
     "data": {
      "text/html": [
       "<div>\n",
       "<style scoped>\n",
       "    .dataframe tbody tr th:only-of-type {\n",
       "        vertical-align: middle;\n",
       "    }\n",
       "\n",
       "    .dataframe tbody tr th {\n",
       "        vertical-align: top;\n",
       "    }\n",
       "\n",
       "    .dataframe thead th {\n",
       "        text-align: right;\n",
       "    }\n",
       "</style>\n",
       "<table border=\"1\" class=\"dataframe\">\n",
       "  <thead>\n",
       "    <tr style=\"text-align: right;\">\n",
       "      <th></th>\n",
       "      <th>reaction</th>\n",
       "      <th>FC</th>\n",
       "      <th>p</th>\n",
       "      <th>q</th>\n",
       "      <th>enrichment</th>\n",
       "      <th>changed</th>\n",
       "    </tr>\n",
       "  </thead>\n",
       "  <tbody>\n",
       "    <tr>\n",
       "      <th>15</th>\n",
       "      <td>2H3MVc</td>\n",
       "      <td>0.000000</td>\n",
       "      <td>1.000000e+00</td>\n",
       "      <td>1.000000e+00</td>\n",
       "      <td>0</td>\n",
       "      <td>0</td>\n",
       "    </tr>\n",
       "    <tr>\n",
       "      <th>29</th>\n",
       "      <td>2HBO</td>\n",
       "      <td>0.000000</td>\n",
       "      <td>1.000000e+00</td>\n",
       "      <td>1.000000e+00</td>\n",
       "      <td>0</td>\n",
       "      <td>0</td>\n",
       "    </tr>\n",
       "    <tr>\n",
       "      <th>30</th>\n",
       "      <td>2HIVc</td>\n",
       "      <td>0.000000</td>\n",
       "      <td>1.000000e+00</td>\n",
       "      <td>1.000000e+00</td>\n",
       "      <td>0</td>\n",
       "      <td>0</td>\n",
       "    </tr>\n",
       "    <tr>\n",
       "      <th>108</th>\n",
       "      <td>ACITL</td>\n",
       "      <td>10.814818</td>\n",
       "      <td>8.689937e-02</td>\n",
       "      <td>8.885568e-02</td>\n",
       "      <td>0</td>\n",
       "      <td>0</td>\n",
       "    </tr>\n",
       "    <tr>\n",
       "      <th>147</th>\n",
       "      <td>AHEXASE2ly</td>\n",
       "      <td>0.731360</td>\n",
       "      <td>6.723652e-197</td>\n",
       "      <td>1.295116e-196</td>\n",
       "      <td>0</td>\n",
       "      <td>0</td>\n",
       "    </tr>\n",
       "    <tr>\n",
       "      <th>...</th>\n",
       "      <td>...</td>\n",
       "      <td>...</td>\n",
       "      <td>...</td>\n",
       "      <td>...</td>\n",
       "      <td>...</td>\n",
       "      <td>...</td>\n",
       "    </tr>\n",
       "    <tr>\n",
       "      <th>1987</th>\n",
       "      <td>TRIODTHYt2</td>\n",
       "      <td>0.000000</td>\n",
       "      <td>1.000000e+00</td>\n",
       "      <td>1.000000e+00</td>\n",
       "      <td>0</td>\n",
       "      <td>0</td>\n",
       "    </tr>\n",
       "    <tr>\n",
       "      <th>2021</th>\n",
       "      <td>UGLCNACtg</td>\n",
       "      <td>-0.200915</td>\n",
       "      <td>2.883581e-192</td>\n",
       "      <td>5.259930e-192</td>\n",
       "      <td>0</td>\n",
       "      <td>0</td>\n",
       "    </tr>\n",
       "    <tr>\n",
       "      <th>2052</th>\n",
       "      <td>XYLR</td>\n",
       "      <td>0.000000</td>\n",
       "      <td>1.000000e+00</td>\n",
       "      <td>1.000000e+00</td>\n",
       "      <td>0</td>\n",
       "      <td>0</td>\n",
       "    </tr>\n",
       "    <tr>\n",
       "      <th>2062</th>\n",
       "      <td>r0173</td>\n",
       "      <td>0.000000</td>\n",
       "      <td>1.000000e+00</td>\n",
       "      <td>1.000000e+00</td>\n",
       "      <td>0</td>\n",
       "      <td>0</td>\n",
       "    </tr>\n",
       "    <tr>\n",
       "      <th>2137</th>\n",
       "      <td>r1380</td>\n",
       "      <td>0.614723</td>\n",
       "      <td>1.382903e-11</td>\n",
       "      <td>1.598256e-11</td>\n",
       "      <td>0</td>\n",
       "      <td>0</td>\n",
       "    </tr>\n",
       "  </tbody>\n",
       "</table>\n",
       "<p>154 rows × 6 columns</p>\n",
       "</div>"
      ],
      "text/plain": [
       "        reaction         FC              p              q  enrichment  changed\n",
       "15        2H3MVc   0.000000   1.000000e+00   1.000000e+00           0        0\n",
       "29          2HBO   0.000000   1.000000e+00   1.000000e+00           0        0\n",
       "30         2HIVc   0.000000   1.000000e+00   1.000000e+00           0        0\n",
       "108        ACITL  10.814818   8.689937e-02   8.885568e-02           0        0\n",
       "147   AHEXASE2ly   0.731360  6.723652e-197  1.295116e-196           0        0\n",
       "...          ...        ...            ...            ...         ...      ...\n",
       "1987  TRIODTHYt2   0.000000   1.000000e+00   1.000000e+00           0        0\n",
       "2021   UGLCNACtg  -0.200915  2.883581e-192  5.259930e-192           0        0\n",
       "2052        XYLR   0.000000   1.000000e+00   1.000000e+00           0        0\n",
       "2062       r0173   0.000000   1.000000e+00   1.000000e+00           0        0\n",
       "2137       r1380   0.614723   1.382903e-11   1.598256e-11           0        0\n",
       "\n",
       "[154 rows x 6 columns]"
      ]
     },
     "execution_count": 13,
     "metadata": {},
     "output_type": "execute_result"
    }
   ],
   "source": [
    "df[df.changed == 0]"
   ]
  },
  {
   "cell_type": "code",
   "execution_count": null,
   "metadata": {},
   "outputs": [],
   "source": []
  }
 ],
 "metadata": {
  "kernelspec": {
   "display_name": "metabolic",
   "language": "python",
   "name": "metabolic"
  },
  "language_info": {
   "codemirror_mode": {
    "name": "ipython",
    "version": 3
   },
   "file_extension": ".py",
   "mimetype": "text/x-python",
   "name": "python",
   "nbconvert_exporter": "python",
   "pygments_lexer": "ipython3",
   "version": "3.11.0"
  }
 },
 "nbformat": 4,
 "nbformat_minor": 4
}
