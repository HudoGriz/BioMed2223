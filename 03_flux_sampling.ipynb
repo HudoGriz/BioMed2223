{
 "cells": [
  {
   "cell_type": "code",
   "execution_count": null,
   "metadata": {},
   "outputs": [],
   "source": [
    "import pandas as pd\n",
    "import cobra\n",
    "\n",
    "from cobra.io import load_model\n",
    "\n",
    "import numpy as np\n",
    "import pickle\n",
    "\n",
    "import os.path"
   ]
  },
  {
   "cell_type": "markdown",
   "metadata": {},
   "source": [
    "## Osnovne nastavitve"
   ]
  },
  {
   "cell_type": "code",
   "execution_count": null,
   "metadata": {},
   "outputs": [],
   "source": [
    "require_biomass = True\n",
    "folder = os.path.join('models','biomass') if require_biomass else os.path.join('models','no_biomass')\n",
    "folder_samples = os.path.join('samples','biomass') if require_biomass else os.path.join('samples','biomass')"
   ]
  },
  {
   "cell_type": "markdown",
   "metadata": {},
   "source": [
    "## Preberi modele"
   ]
  },
  {
   "cell_type": "code",
   "execution_count": null,
   "metadata": {},
   "outputs": [],
   "source": [
    "model_control = cobra.io.read_sbml_model(os.path.join(f'{folder}','model_control.xml'))\n",
    "model_kd = cobra.io.read_sbml_model(os.path.join(f'{folder}','model_kd.xml'))"
   ]
  },
  {
   "cell_type": "markdown",
   "metadata": {},
   "source": [
    "Pridobi reakcije v posameznem modelu in jih zapiši kot množica (`set`)."
   ]
  },
  {
   "cell_type": "code",
   "execution_count": null,
   "metadata": {},
   "outputs": [],
   "source": [
    "reacts_control = {r.id for r in model_control.reactions}\n",
    "reacts_kd = {r.id for r in model_kd.reactions}"
   ]
  },
  {
   "cell_type": "markdown",
   "metadata": {},
   "source": [
    "## Osnovne analize"
   ]
  },
  {
   "cell_type": "markdown",
   "metadata": {},
   "source": [
    "### Jaccardov indeks\n",
    "\n",
    "Jaccardov indeks/koeficient je statistična mera podobnosti dveh populacij/vzorcev.\n",
    "\n",
    "Izračuna se kot razmerje med številom enakih reakcij v obeh vzorcih (presek množic) in številom vseh različnih reakcij v vzorcih (unija množic):\n",
    "$$J=\\frac{|S_1 \\cap S_2|}{|S_1 \\cup S_2|}$$\n",
    "\n",
    "Ker je moč preseka v najboljšem primeru enaka moči unije, se indeks nahaja na intervalu $[0,1]$. Višji Jaccardov indeks pomeni večjo podobnost med opazovanima vzorcema."
   ]
  },
  {
   "cell_type": "code",
   "execution_count": null,
   "metadata": {},
   "outputs": [],
   "source": [
    "J = len(reacts_control & reacts_kd)/len(reacts_control | reacts_kd)\n",
    "J"
   ]
  },
  {
   "cell_type": "markdown",
   "metadata": {},
   "source": [
    "## Summary"
   ]
  },
  {
   "cell_type": "code",
   "execution_count": null,
   "metadata": {},
   "outputs": [],
   "source": [
    "model_control.summary()"
   ]
  },
  {
   "cell_type": "code",
   "execution_count": null,
   "metadata": {},
   "outputs": [],
   "source": [
    "model_kd.summary()"
   ]
  },
  {
   "cell_type": "markdown",
   "metadata": {},
   "source": [
    "## Vzorčenje metabolnih pretokov\n",
    "\n",
    "Uporabili bomo funkcijo sample paketa COBRApy ([povezava](https://cobrapy.readthedocs.io/en/latest/sampling.html))."
   ]
  },
  {
   "cell_type": "code",
   "execution_count": null,
   "metadata": {},
   "outputs": [],
   "source": [
    "from cobra.sampling import sample"
   ]
  },
  {
   "cell_type": "markdown",
   "metadata": {},
   "source": [
    "Podamo model, število vzorcev in metodo vzorčenja. \n",
    "\n",
    "**POZOR: Časovno potratno! Podatke lahko prebereš iz datoteke (spodaj).**"
   ]
  },
  {
   "cell_type": "code",
   "execution_count": null,
   "metadata": {},
   "outputs": [],
   "source": [
    "s_control = sample(model_control, 1000, method=\"achr\") "
   ]
  },
  {
   "cell_type": "markdown",
   "metadata": {},
   "source": [
    "**POZOR: Časovno potratno! Podatke lahko prebereš iz datoteke (spodaj).**"
   ]
  },
  {
   "cell_type": "code",
   "execution_count": null,
   "metadata": {},
   "outputs": [],
   "source": [
    "s_kd = sample(model_kd, 1000, method=\"achr\")"
   ]
  },
  {
   "cell_type": "code",
   "execution_count": null,
   "metadata": {},
   "outputs": [],
   "source": [
    "s_control.to_csv(os.path.join(f'{folder_samples}','samples_control.csv'), index=False)"
   ]
  },
  {
   "cell_type": "code",
   "execution_count": null,
   "metadata": {},
   "outputs": [],
   "source": [
    "s_kd.to_csv(os.path.join(f'{folder_samples}','samples_kd.csv')', index=False)"
   ]
  },
  {
   "cell_type": "markdown",
   "metadata": {},
   "source": [
    "**Branje iz datotek (če ste časovne potratne korake izpustili)**"
   ]
  },
  {
   "cell_type": "code",
   "execution_count": null,
   "metadata": {},
   "outputs": [],
   "source": [
    "s_control = pd.read_csv(os.path.join(f'{folder_samples}','samples_control.csv'))\n",
    "s_kd = pd.read_csv(os.path.join(f'{folder_samples}','samples_kd.csv'))"
   ]
  },
  {
   "cell_type": "code",
   "execution_count": null,
   "metadata": {},
   "outputs": [],
   "source": [
    "s_control"
   ]
  },
  {
   "cell_type": "code",
   "execution_count": null,
   "metadata": {},
   "outputs": [],
   "source": [
    "s_kd"
   ]
  }
 ],
 "metadata": {
  "kernelspec": {
   "display_name": "metabolic",
   "language": "python",
   "name": "metabolic"
  },
  "language_info": {
   "codemirror_mode": {
    "name": "ipython",
    "version": 3
   },
   "file_extension": ".py",
   "mimetype": "text/x-python",
   "name": "python",
   "nbconvert_exporter": "python",
   "pygments_lexer": "ipython3",
   "version": "3.11.0"
  }
 },
 "nbformat": 4,
 "nbformat_minor": 4
}
