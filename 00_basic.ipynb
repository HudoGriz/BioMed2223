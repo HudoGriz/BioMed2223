{
 "cells": [
  {
   "cell_type": "markdown",
   "metadata": {},
   "source": [
    "## Spoznavanje z okoljem"
   ]
  },
  {
   "cell_type": "code",
   "execution_count": 1,
   "metadata": {
    "pycharm": {
     "is_executing": true
    }
   },
   "outputs": [],
   "source": [
    "import pandas as pd\n",
    "import cobra\n",
    "\n",
    "from cobra.io import load_model\n",
    "\n",
    "import numpy as np\n",
    "import pickle\n",
    "\n",
    "import os.path \n",
    "\n",
    "import matplotlib.pyplot as plt\n",
    "import seaborn as sns\n",
    "\n",
    "from IPython.core.display import HTML"
   ]
  },
  {
   "cell_type": "markdown",
   "metadata": {},
   "source": [
    "## *E. coli*"
   ]
  },
  {
   "cell_type": "markdown",
   "metadata": {},
   "source": [
    "Preberimo model metabolizma *E. coli*. Model smo prenesli s strani http://bigg.ucsd.edu/models/e_coli_core."
   ]
  },
  {
   "cell_type": "code",
   "execution_count": 2,
   "metadata": {},
   "outputs": [],
   "source": [
    "model = cobra.io.read_sbml_model(os.path.join('models','e_coli_core.xml'))"
   ]
  },
  {
   "cell_type": "code",
   "execution_count": 3,
   "metadata": {},
   "outputs": [
    {
     "data": {
      "text/html": [
       "\n",
       "        <table>\n",
       "            <tr>\n",
       "                <td><strong>Name</strong></td>\n",
       "                <td>e_coli_core</td>\n",
       "            </tr><tr>\n",
       "                <td><strong>Memory address</strong></td>\n",
       "                <td>2420f33b850</td>\n",
       "            </tr><tr>\n",
       "                <td><strong>Number of metabolites</strong></td>\n",
       "                <td>72</td>\n",
       "            </tr><tr>\n",
       "                <td><strong>Number of reactions</strong></td>\n",
       "                <td>95</td>\n",
       "            </tr><tr>\n",
       "                <td><strong>Number of genes</strong></td>\n",
       "                <td>137</td>\n",
       "            </tr><tr>\n",
       "                <td><strong>Number of groups</strong></td>\n",
       "                <td>0</td>\n",
       "            </tr><tr>\n",
       "                <td><strong>Objective expression</strong></td>\n",
       "                <td>1.0*BIOMASS_Ecoli_core_w_GAM - 1.0*BIOMASS_Ecoli_core_w_GAM_reverse_712e5</td>\n",
       "            </tr><tr>\n",
       "                <td><strong>Compartments</strong></td>\n",
       "                <td>extracellular space, cytosol</td>\n",
       "            </tr>\n",
       "          </table>"
      ],
      "text/plain": [
       "<Model e_coli_core at 0x2420f33b850>"
      ]
     },
     "execution_count": 3,
     "metadata": {},
     "output_type": "execute_result"
    }
   ],
   "source": [
    "model"
   ]
  },
  {
   "cell_type": "code",
   "execution_count": 7,
   "metadata": {},
   "outputs": [
    {
     "data": {
      "text/html": [
       "\n",
       "        <table>\n",
       "            <tr>\n",
       "                <td><strong>Reaction identifier</strong></td><td>PFK</td>\n",
       "            </tr><tr>\n",
       "                <td><strong>Name</strong></td><td>Phosphofructokinase</td>\n",
       "            </tr><tr>\n",
       "                <td><strong>Memory address</strong></td>\n",
       "                <td>0x2420f02a550</td>\n",
       "            </tr><tr>\n",
       "                <td><strong>Stoichiometry</strong></td>\n",
       "                <td>\n",
       "                    <p style='text-align:right'>atp_c + f6p_c --> adp_c + fdp_c + h_c</p>\n",
       "                    <p style='text-align:right'>ATP C10H12N5O13P3 + D-Fructose 6-phosphate --> ADP C10H12N5O10P2 + D-Fructose 1,6-bisphosphate + H+</p>\n",
       "                </td>\n",
       "            </tr><tr>\n",
       "                <td><strong>GPR</strong></td><td>b3916 or b1723</td>\n",
       "            </tr><tr>\n",
       "                <td><strong>Lower bound</strong></td><td>0.0</td>\n",
       "            </tr><tr>\n",
       "                <td><strong>Upper bound</strong></td><td>1000.0</td>\n",
       "            </tr>\n",
       "        </table>\n",
       "        "
      ],
      "text/plain": [
       "<Reaction PFK at 0x2420f02a550>"
      ]
     },
     "execution_count": 7,
     "metadata": {},
     "output_type": "execute_result"
    }
   ],
   "source": [
    "model.reactions[0]"
   ]
  },
  {
   "cell_type": "markdown",
   "metadata": {},
   "source": [
    "Nastavimo funkcijo biomase:"
   ]
  },
  {
   "cell_type": "code",
   "execution_count": 10,
   "metadata": {},
   "outputs": [
    {
     "data": {
      "text/html": [
       "\n",
       "        <table>\n",
       "            <tr>\n",
       "                <td><strong>Reaction identifier</strong></td><td>BIOMASS_Ecoli_core_w_GAM</td>\n",
       "            </tr><tr>\n",
       "                <td><strong>Name</strong></td><td>Biomass Objective Function with GAM</td>\n",
       "            </tr><tr>\n",
       "                <td><strong>Memory address</strong></td>\n",
       "                <td>0x2420f58fa10</td>\n",
       "            </tr><tr>\n",
       "                <td><strong>Stoichiometry</strong></td>\n",
       "                <td>\n",
       "                    <p style='text-align:right'>1.496 3pg_c + 3.7478 accoa_c + 59.81 atp_c + 0.361 e4p_c + 0.0709 f6p_c + 0.129 g3p_c + 0.205 g6p_c + 0.2557 gln__L_c + 4.9414 glu__L_c + 59.81 h2o_c + 3.547 nad_c + 13.0279 nadph_c + 1.7867 oaa_c...</p>\n",
       "                    <p style='text-align:right'>1.496 3-Phospho-D-glycerate + 3.7478 Acetyl-CoA + 59.81 ATP C10H12N5O13P3 + 0.361 D-Erythrose 4-phosphate + 0.0709 D-Fructose 6-phosphate + 0.129 Glyceraldehyde 3-phosphate + 0.205 D-Glucose...</p>\n",
       "                </td>\n",
       "            </tr><tr>\n",
       "                <td><strong>GPR</strong></td><td></td>\n",
       "            </tr><tr>\n",
       "                <td><strong>Lower bound</strong></td><td>0.0</td>\n",
       "            </tr><tr>\n",
       "                <td><strong>Upper bound</strong></td><td>1000.0</td>\n",
       "            </tr>\n",
       "        </table>\n",
       "        "
      ],
      "text/plain": [
       "<Reaction BIOMASS_Ecoli_core_w_GAM at 0x2420f58fa10>"
      ]
     },
     "execution_count": 10,
     "metadata": {},
     "output_type": "execute_result"
    }
   ],
   "source": [
    "model.reactions.get_by_id('BIOMASS_Ecoli_core_w_GAM')"
   ]
  },
  {
   "cell_type": "code",
   "execution_count": 11,
   "metadata": {},
   "outputs": [
    {
     "data": {
      "text/html": [
       "\n",
       "        <table>\n",
       "            <tr>\n",
       "                <td><strong>Reaction identifier</strong></td><td>BIOMASS_Ecoli_core_w_GAM</td>\n",
       "            </tr><tr>\n",
       "                <td><strong>Name</strong></td><td>Biomass Objective Function with GAM</td>\n",
       "            </tr><tr>\n",
       "                <td><strong>Memory address</strong></td>\n",
       "                <td>0x2420f58fa10</td>\n",
       "            </tr><tr>\n",
       "                <td><strong>Stoichiometry</strong></td>\n",
       "                <td>\n",
       "                    <p style='text-align:right'>1.496 3pg_c + 3.7478 accoa_c + 59.81 atp_c + 0.361 e4p_c + 0.0709 f6p_c + 0.129 g3p_c + 0.205 g6p_c + 0.2557 gln__L_c + 4.9414 glu__L_c + 59.81 h2o_c + 3.547 nad_c + 13.0279 nadph_c + 1.7867 oaa_c...</p>\n",
       "                    <p style='text-align:right'>1.496 3-Phospho-D-glycerate + 3.7478 Acetyl-CoA + 59.81 ATP C10H12N5O13P3 + 0.361 D-Erythrose 4-phosphate + 0.0709 D-Fructose 6-phosphate + 0.129 Glyceraldehyde 3-phosphate + 0.205 D-Glucose...</p>\n",
       "                </td>\n",
       "            </tr><tr>\n",
       "                <td><strong>GPR</strong></td><td></td>\n",
       "            </tr><tr>\n",
       "                <td><strong>Lower bound</strong></td><td>0.0</td>\n",
       "            </tr><tr>\n",
       "                <td><strong>Upper bound</strong></td><td>1000.0</td>\n",
       "            </tr>\n",
       "        </table>\n",
       "        "
      ],
      "text/plain": [
       "<Reaction BIOMASS_Ecoli_core_w_GAM at 0x2420f58fa10>"
      ]
     },
     "execution_count": 11,
     "metadata": {},
     "output_type": "execute_result"
    }
   ],
   "source": [
    "r_biomass = model.reactions.get_by_id('BIOMASS_Ecoli_core_w_GAM')\n",
    "r_biomass"
   ]
  },
  {
   "cell_type": "code",
   "execution_count": 12,
   "metadata": {},
   "outputs": [],
   "source": [
    "model.objective = r_biomass"
   ]
  },
  {
   "cell_type": "code",
   "execution_count": 13,
   "metadata": {},
   "outputs": [
    {
     "data": {
      "text/latex": [
       "$\\displaystyle 1.0 \\cdot BIOMASS_{Ecoli core w GAM} - 1.0 \\cdot BIOMASS_{Ecoli core w GAM reverse 712e5}$"
      ],
      "text/plain": [
       "1.0*BIOMASS_Ecoli_core_w_GAM - 1.0*BIOMASS_Ecoli_core_w_GAM_reverse_712e5"
      ]
     },
     "execution_count": 13,
     "metadata": {},
     "output_type": "execute_result"
    }
   ],
   "source": [
    "model.objective.expression"
   ]
  },
  {
   "cell_type": "code",
   "execution_count": 14,
   "metadata": {},
   "outputs": [
    {
     "data": {
      "text/html": [
       "<strong><em>Optimal</em> solution with objective value 0.874</strong><br><div>\n",
       "<style scoped>\n",
       "    .dataframe tbody tr th:only-of-type {\n",
       "        vertical-align: middle;\n",
       "    }\n",
       "\n",
       "    .dataframe tbody tr th {\n",
       "        vertical-align: top;\n",
       "    }\n",
       "\n",
       "    .dataframe thead th {\n",
       "        text-align: right;\n",
       "    }\n",
       "</style>\n",
       "<table border=\"1\" class=\"dataframe\">\n",
       "  <thead>\n",
       "    <tr style=\"text-align: right;\">\n",
       "      <th></th>\n",
       "      <th>fluxes</th>\n",
       "      <th>reduced_costs</th>\n",
       "    </tr>\n",
       "  </thead>\n",
       "  <tbody>\n",
       "    <tr>\n",
       "      <th>PFK</th>\n",
       "      <td>7.477382</td>\n",
       "      <td>0.000000e+00</td>\n",
       "    </tr>\n",
       "    <tr>\n",
       "      <th>PFL</th>\n",
       "      <td>0.000000</td>\n",
       "      <td>-1.527746e-02</td>\n",
       "    </tr>\n",
       "    <tr>\n",
       "      <th>PGI</th>\n",
       "      <td>4.860861</td>\n",
       "      <td>0.000000e+00</td>\n",
       "    </tr>\n",
       "    <tr>\n",
       "      <th>PGK</th>\n",
       "      <td>-16.023526</td>\n",
       "      <td>-0.000000e+00</td>\n",
       "    </tr>\n",
       "    <tr>\n",
       "      <th>PGL</th>\n",
       "      <td>4.959985</td>\n",
       "      <td>5.854692e-18</td>\n",
       "    </tr>\n",
       "    <tr>\n",
       "      <th>...</th>\n",
       "      <td>...</td>\n",
       "      <td>...</td>\n",
       "    </tr>\n",
       "    <tr>\n",
       "      <th>NADH16</th>\n",
       "      <td>38.534610</td>\n",
       "      <td>8.673617e-19</td>\n",
       "    </tr>\n",
       "    <tr>\n",
       "      <th>NADTRHD</th>\n",
       "      <td>0.000000</td>\n",
       "      <td>-2.546243e-03</td>\n",
       "    </tr>\n",
       "    <tr>\n",
       "      <th>NH4t</th>\n",
       "      <td>4.765319</td>\n",
       "      <td>-3.665630e-17</td>\n",
       "    </tr>\n",
       "    <tr>\n",
       "      <th>O2t</th>\n",
       "      <td>21.799493</td>\n",
       "      <td>1.742080e-18</td>\n",
       "    </tr>\n",
       "    <tr>\n",
       "      <th>PDH</th>\n",
       "      <td>9.282533</td>\n",
       "      <td>-6.938894e-18</td>\n",
       "    </tr>\n",
       "  </tbody>\n",
       "</table>\n",
       "<p>95 rows × 2 columns</p>\n",
       "</div>"
      ],
      "text/plain": [
       "<Solution 0.874 at 0x2421094fc10>"
      ]
     },
     "execution_count": 14,
     "metadata": {},
     "output_type": "execute_result"
    }
   ],
   "source": [
    "sol = model.optimize()\n",
    "sol"
   ]
  },
  {
   "cell_type": "code",
   "execution_count": 15,
   "metadata": {},
   "outputs": [
    {
     "data": {
      "text/html": [
       "<h3>Objective</h3><p>1.0 BIOMASS_Ecoli_core_w_GAM = 0.8739215069684311</p><h4>Uptake</h4><table border=\"1\" class=\"dataframe\">\n",
       "  <thead>\n",
       "    <tr style=\"text-align: right;\">\n",
       "      <th>Metabolite</th>\n",
       "      <th>Reaction</th>\n",
       "      <th>Flux</th>\n",
       "      <th>C-Number</th>\n",
       "      <th>C-Flux</th>\n",
       "    </tr>\n",
       "  </thead>\n",
       "  <tbody>\n",
       "    <tr>\n",
       "      <td>glc__D_e</td>\n",
       "      <td>EX_glc__D_e</td>\n",
       "      <td>10</td>\n",
       "      <td>6</td>\n",
       "      <td>100.00%</td>\n",
       "    </tr>\n",
       "    <tr>\n",
       "      <td>nh4_e</td>\n",
       "      <td>EX_nh4_e</td>\n",
       "      <td>4.765</td>\n",
       "      <td>0</td>\n",
       "      <td>0.00%</td>\n",
       "    </tr>\n",
       "    <tr>\n",
       "      <td>o2_e</td>\n",
       "      <td>EX_o2_e</td>\n",
       "      <td>21.8</td>\n",
       "      <td>0</td>\n",
       "      <td>0.00%</td>\n",
       "    </tr>\n",
       "    <tr>\n",
       "      <td>pi_e</td>\n",
       "      <td>EX_pi_e</td>\n",
       "      <td>3.215</td>\n",
       "      <td>0</td>\n",
       "      <td>0.00%</td>\n",
       "    </tr>\n",
       "  </tbody>\n",
       "</table><h4>Secretion</h4><table border=\"1\" class=\"dataframe\">\n",
       "  <thead>\n",
       "    <tr style=\"text-align: right;\">\n",
       "      <th>Metabolite</th>\n",
       "      <th>Reaction</th>\n",
       "      <th>Flux</th>\n",
       "      <th>C-Number</th>\n",
       "      <th>C-Flux</th>\n",
       "    </tr>\n",
       "  </thead>\n",
       "  <tbody>\n",
       "    <tr>\n",
       "      <td>co2_e</td>\n",
       "      <td>EX_co2_e</td>\n",
       "      <td>-22.81</td>\n",
       "      <td>1</td>\n",
       "      <td>100.00%</td>\n",
       "    </tr>\n",
       "    <tr>\n",
       "      <td>h2o_e</td>\n",
       "      <td>EX_h2o_e</td>\n",
       "      <td>-29.18</td>\n",
       "      <td>0</td>\n",
       "      <td>0.00%</td>\n",
       "    </tr>\n",
       "    <tr>\n",
       "      <td>h_e</td>\n",
       "      <td>EX_h_e</td>\n",
       "      <td>-17.53</td>\n",
       "      <td>0</td>\n",
       "      <td>0.00%</td>\n",
       "    </tr>\n",
       "  </tbody>\n",
       "</table>"
      ],
      "text/plain": [
       "<cobra.summary.model_summary.ModelSummary at 0x242108a2990>"
      ]
     },
     "execution_count": 15,
     "metadata": {},
     "output_type": "execute_result"
    }
   ],
   "source": [
    "model.summary()"
   ]
  },
  {
   "cell_type": "markdown",
   "metadata": {},
   "source": [
    "Rast celice torej znaša 0.874 $h^{-1}$."
   ]
  },
  {
   "cell_type": "markdown",
   "metadata": {},
   "source": [
    "Rezultat optimizacije lahko primerjamo z orodjem [Escher-FBA](https://sbrg.github.io/escher-fba/#/app):"
   ]
  },
  {
   "cell_type": "code",
   "execution_count": 16,
   "metadata": {},
   "outputs": [
    {
     "data": {
      "text/plain": [
       "-10.0"
      ]
     },
     "execution_count": 16,
     "metadata": {},
     "output_type": "execute_result"
    }
   ],
   "source": [
    "sol = model.optimize()\n",
    "sol['EX_glc__D_e']"
   ]
  },
  {
   "cell_type": "code",
   "execution_count": 17,
   "metadata": {},
   "outputs": [
    {
     "data": {
      "text/plain": [
       "-21.79949265599876"
      ]
     },
     "execution_count": 17,
     "metadata": {},
     "output_type": "execute_result"
    }
   ],
   "source": [
    "sol = model.optimize()\n",
    "sol['EX_o2_e']"
   ]
  },
  {
   "cell_type": "markdown",
   "metadata": {},
   "source": [
    "### Medij gojenja"
   ]
  },
  {
   "cell_type": "markdown",
   "metadata": {},
   "source": [
    "Poskusimo spremeniti lastnosti medija. Kot vidimo zgoraj, celica črpa veliko glukoze (pretok je 10 $mmol gDW^{-1} hr^{-1}$ (milimoli na gram suhe celične mase na uro - privzete enote v okolju COBRA)). Kakšen je maksimalen dovod glukoze? Ali celica črpa vse, kar ima na voljo?"
   ]
  },
  {
   "cell_type": "code",
   "execution_count": 23,
   "metadata": {},
   "outputs": [
    {
     "data": {
      "text/html": [
       "\n",
       "        <table>\n",
       "            <tr>\n",
       "                <td><strong>Reaction identifier</strong></td><td>EX_glc__D_e</td>\n",
       "            </tr><tr>\n",
       "                <td><strong>Name</strong></td><td>D-Glucose exchange</td>\n",
       "            </tr><tr>\n",
       "                <td><strong>Memory address</strong></td>\n",
       "                <td>0x242105b2d50</td>\n",
       "            </tr><tr>\n",
       "                <td><strong>Stoichiometry</strong></td>\n",
       "                <td>\n",
       "                    <p style='text-align:right'>glc__D_e <=></p>\n",
       "                    <p style='text-align:right'>D-Glucose <=></p>\n",
       "                </td>\n",
       "            </tr><tr>\n",
       "                <td><strong>GPR</strong></td><td></td>\n",
       "            </tr><tr>\n",
       "                <td><strong>Lower bound</strong></td><td>-10.0</td>\n",
       "            </tr><tr>\n",
       "                <td><strong>Upper bound</strong></td><td>1000.0</td>\n",
       "            </tr>\n",
       "        </table>\n",
       "        "
      ],
      "text/plain": [
       "<Reaction EX_glc__D_e at 0x242105b2d50>"
      ]
     },
     "execution_count": 23,
     "metadata": {},
     "output_type": "execute_result"
    }
   ],
   "source": [
    "r_ex_glc = model.reactions.get_by_id('EX_glc__D_e')\n",
    "r_ex_glc"
   ]
  },
  {
   "cell_type": "markdown",
   "metadata": {},
   "source": [
    "Pretok je negativen, ampak reakcija je obrnjena! V orodju COBRA so vse *exchange* (*uptake* in *secretion*) reakcije take oblike. Kot vidimo, celica črpa vso glukozo, ki je na voljo. Poskusimo to zmanjšati:"
   ]
  },
  {
   "cell_type": "code",
   "execution_count": null,
   "metadata": {},
   "outputs": [],
   "source": [
    "r_ex_glc.bounds"
   ]
  },
  {
   "cell_type": "code",
   "execution_count": null,
   "metadata": {},
   "outputs": [],
   "source": [
    "r_ex_glc.bounds = (0, 1000.0)\n",
    "model.optimize()"
   ]
  },
  {
   "cell_type": "markdown",
   "metadata": {},
   "source": [
    "Ups. Tole je bilo preveč. "
   ]
  },
  {
   "cell_type": "code",
   "execution_count": null,
   "metadata": {},
   "outputs": [],
   "source": [
    "r_ex_glc.bounds = (-1.0, 1000.0)"
   ]
  },
  {
   "cell_type": "code",
   "execution_count": null,
   "metadata": {},
   "outputs": [],
   "source": [
    "model.optimize()"
   ]
  },
  {
   "cell_type": "markdown",
   "metadata": {},
   "source": [
    "Poskusimo analizo ponoviti v anaerobnih pogojih. Nastavili bomo *uptake* kisika:"
   ]
  },
  {
   "cell_type": "code",
   "execution_count": 18,
   "metadata": {},
   "outputs": [
    {
     "data": {
      "text/html": [
       "\n",
       "        <table>\n",
       "            <tr>\n",
       "                <td><strong>Reaction identifier</strong></td><td>EX_o2_e</td>\n",
       "            </tr><tr>\n",
       "                <td><strong>Name</strong></td><td>O2 exchange</td>\n",
       "            </tr><tr>\n",
       "                <td><strong>Memory address</strong></td>\n",
       "                <td>0x242105c56d0</td>\n",
       "            </tr><tr>\n",
       "                <td><strong>Stoichiometry</strong></td>\n",
       "                <td>\n",
       "                    <p style='text-align:right'>o2_e <=></p>\n",
       "                    <p style='text-align:right'>O2 O2 <=></p>\n",
       "                </td>\n",
       "            </tr><tr>\n",
       "                <td><strong>GPR</strong></td><td></td>\n",
       "            </tr><tr>\n",
       "                <td><strong>Lower bound</strong></td><td>-1000.0</td>\n",
       "            </tr><tr>\n",
       "                <td><strong>Upper bound</strong></td><td>1000.0</td>\n",
       "            </tr>\n",
       "        </table>\n",
       "        "
      ],
      "text/plain": [
       "<Reaction EX_o2_e at 0x242105c56d0>"
      ]
     },
     "execution_count": 18,
     "metadata": {},
     "output_type": "execute_result"
    }
   ],
   "source": [
    "r_ex_o2 = model.reactions.get_by_id('EX_o2_e')\n",
    "r_ex_o2"
   ]
  },
  {
   "cell_type": "code",
   "execution_count": 19,
   "metadata": {},
   "outputs": [],
   "source": [
    "#r_ex_glc.bounds = (-10.0, 1000.0)\n",
    "r_ex_o2.bounds = (0, 1000)"
   ]
  },
  {
   "cell_type": "code",
   "execution_count": 21,
   "metadata": {},
   "outputs": [
    {
     "data": {
      "text/html": [
       "<h3>Objective</h3><p>1.0 BIOMASS_Ecoli_core_w_GAM = 0.2116629497353107</p><h4>Uptake</h4><table border=\"1\" class=\"dataframe\">\n",
       "  <thead>\n",
       "    <tr style=\"text-align: right;\">\n",
       "      <th>Metabolite</th>\n",
       "      <th>Reaction</th>\n",
       "      <th>Flux</th>\n",
       "      <th>C-Number</th>\n",
       "      <th>C-Flux</th>\n",
       "    </tr>\n",
       "  </thead>\n",
       "  <tbody>\n",
       "    <tr>\n",
       "      <td>co2_e</td>\n",
       "      <td>EX_co2_e</td>\n",
       "      <td>0.3782</td>\n",
       "      <td>1</td>\n",
       "      <td>0.63%</td>\n",
       "    </tr>\n",
       "    <tr>\n",
       "      <td>glc__D_e</td>\n",
       "      <td>EX_glc__D_e</td>\n",
       "      <td>10</td>\n",
       "      <td>6</td>\n",
       "      <td>99.37%</td>\n",
       "    </tr>\n",
       "    <tr>\n",
       "      <td>h2o_e</td>\n",
       "      <td>EX_h2o_e</td>\n",
       "      <td>7.116</td>\n",
       "      <td>0</td>\n",
       "      <td>0.00%</td>\n",
       "    </tr>\n",
       "    <tr>\n",
       "      <td>nh4_e</td>\n",
       "      <td>EX_nh4_e</td>\n",
       "      <td>1.154</td>\n",
       "      <td>0</td>\n",
       "      <td>0.00%</td>\n",
       "    </tr>\n",
       "    <tr>\n",
       "      <td>pi_e</td>\n",
       "      <td>EX_pi_e</td>\n",
       "      <td>0.7786</td>\n",
       "      <td>0</td>\n",
       "      <td>0.00%</td>\n",
       "    </tr>\n",
       "  </tbody>\n",
       "</table><h4>Secretion</h4><table border=\"1\" class=\"dataframe\">\n",
       "  <thead>\n",
       "    <tr style=\"text-align: right;\">\n",
       "      <th>Metabolite</th>\n",
       "      <th>Reaction</th>\n",
       "      <th>Flux</th>\n",
       "      <th>C-Number</th>\n",
       "      <th>C-Flux</th>\n",
       "    </tr>\n",
       "  </thead>\n",
       "  <tbody>\n",
       "    <tr>\n",
       "      <td>ac_e</td>\n",
       "      <td>EX_ac_e</td>\n",
       "      <td>-8.504</td>\n",
       "      <td>2</td>\n",
       "      <td>33.11%</td>\n",
       "    </tr>\n",
       "    <tr>\n",
       "      <td>etoh_e</td>\n",
       "      <td>EX_etoh_e</td>\n",
       "      <td>-8.279</td>\n",
       "      <td>2</td>\n",
       "      <td>32.23%</td>\n",
       "    </tr>\n",
       "    <tr>\n",
       "      <td>for_e</td>\n",
       "      <td>EX_for_e</td>\n",
       "      <td>-17.8</td>\n",
       "      <td>1</td>\n",
       "      <td>34.66%</td>\n",
       "    </tr>\n",
       "    <tr>\n",
       "      <td>h_e</td>\n",
       "      <td>EX_h_e</td>\n",
       "      <td>-30.55</td>\n",
       "      <td>0</td>\n",
       "      <td>0.00%</td>\n",
       "    </tr>\n",
       "  </tbody>\n",
       "</table>"
      ],
      "text/plain": [
       "<cobra.summary.model_summary.ModelSummary at 0x24210a12110>"
      ]
     },
     "execution_count": 21,
     "metadata": {},
     "output_type": "execute_result"
    }
   ],
   "source": [
    "model.summary()"
   ]
  },
  {
   "cell_type": "markdown",
   "metadata": {},
   "source": [
    "Produkcija biomase se je zmanjšala, prav tako pa se je preusmerila pot generiranja energije. Celica tvori in izloča acetat (`ac`), format (`for`) in etanol (`etoh`). Prej je izločala vodo in ogljikov dioksid."
   ]
  },
  {
   "cell_type": "code",
   "execution_count": null,
   "metadata": {},
   "outputs": [],
   "source": [
    "model.summary()"
   ]
  },
  {
   "cell_type": "code",
   "execution_count": null,
   "metadata": {},
   "outputs": [],
   "source": [
    "s.objective_value"
   ]
  },
  {
   "cell_type": "markdown",
   "metadata": {},
   "source": [
    "Lahko naredimo analizo produkcije biomase glede na razpoložljivost kisika in glukoze:"
   ]
  },
  {
   "cell_type": "code",
   "execution_count": 28,
   "metadata": {},
   "outputs": [
    {
     "name": "stderr",
     "output_type": "stream",
     "text": [
      "C:\\Users\\miham\\.conda\\envs\\metabolic\\Lib\\site-packages\\cobra\\util\\solver.py:554: UserWarning: Solver status is 'infeasible'.\n",
      "  warn(f\"Solver status is '{status}'.\", UserWarning)\n",
      "C:\\Users\\miham\\.conda\\envs\\metabolic\\Lib\\site-packages\\cobra\\util\\solver.py:554: UserWarning: Solver status is 'infeasible'.\n",
      "  warn(f\"Solver status is '{status}'.\", UserWarning)\n",
      "C:\\Users\\miham\\.conda\\envs\\metabolic\\Lib\\site-packages\\cobra\\util\\solver.py:554: UserWarning: Solver status is 'infeasible'.\n",
      "  warn(f\"Solver status is '{status}'.\", UserWarning)\n",
      "C:\\Users\\miham\\.conda\\envs\\metabolic\\Lib\\site-packages\\cobra\\util\\solver.py:554: UserWarning: Solver status is 'infeasible'.\n",
      "  warn(f\"Solver status is '{status}'.\", UserWarning)\n",
      "C:\\Users\\miham\\.conda\\envs\\metabolic\\Lib\\site-packages\\cobra\\util\\solver.py:554: UserWarning: Solver status is 'infeasible'.\n",
      "  warn(f\"Solver status is '{status}'.\", UserWarning)\n",
      "C:\\Users\\miham\\.conda\\envs\\metabolic\\Lib\\site-packages\\cobra\\util\\solver.py:554: UserWarning: Solver status is 'infeasible'.\n",
      "  warn(f\"Solver status is '{status}'.\", UserWarning)\n",
      "C:\\Users\\miham\\.conda\\envs\\metabolic\\Lib\\site-packages\\cobra\\util\\solver.py:554: UserWarning: Solver status is 'infeasible'.\n",
      "  warn(f\"Solver status is '{status}'.\", UserWarning)\n",
      "C:\\Users\\miham\\.conda\\envs\\metabolic\\Lib\\site-packages\\cobra\\util\\solver.py:554: UserWarning: Solver status is 'infeasible'.\n",
      "  warn(f\"Solver status is '{status}'.\", UserWarning)\n",
      "C:\\Users\\miham\\.conda\\envs\\metabolic\\Lib\\site-packages\\cobra\\util\\solver.py:554: UserWarning: Solver status is 'infeasible'.\n",
      "  warn(f\"Solver status is '{status}'.\", UserWarning)\n",
      "C:\\Users\\miham\\.conda\\envs\\metabolic\\Lib\\site-packages\\cobra\\util\\solver.py:554: UserWarning: Solver status is 'infeasible'.\n",
      "  warn(f\"Solver status is '{status}'.\", UserWarning)\n",
      "C:\\Users\\miham\\.conda\\envs\\metabolic\\Lib\\site-packages\\cobra\\util\\solver.py:554: UserWarning: Solver status is 'infeasible'.\n",
      "  warn(f\"Solver status is '{status}'.\", UserWarning)\n",
      "C:\\Users\\miham\\.conda\\envs\\metabolic\\Lib\\site-packages\\cobra\\util\\solver.py:554: UserWarning: Solver status is 'infeasible'.\n",
      "  warn(f\"Solver status is '{status}'.\", UserWarning)\n",
      "C:\\Users\\miham\\.conda\\envs\\metabolic\\Lib\\site-packages\\cobra\\util\\solver.py:554: UserWarning: Solver status is 'infeasible'.\n",
      "  warn(f\"Solver status is '{status}'.\", UserWarning)\n",
      "C:\\Users\\miham\\.conda\\envs\\metabolic\\Lib\\site-packages\\cobra\\util\\solver.py:554: UserWarning: Solver status is 'infeasible'.\n",
      "  warn(f\"Solver status is '{status}'.\", UserWarning)\n",
      "C:\\Users\\miham\\.conda\\envs\\metabolic\\Lib\\site-packages\\cobra\\util\\solver.py:554: UserWarning: Solver status is 'infeasible'.\n",
      "  warn(f\"Solver status is '{status}'.\", UserWarning)\n",
      "C:\\Users\\miham\\.conda\\envs\\metabolic\\Lib\\site-packages\\cobra\\util\\solver.py:554: UserWarning: Solver status is 'infeasible'.\n",
      "  warn(f\"Solver status is '{status}'.\", UserWarning)\n"
     ]
    }
   ],
   "source": [
    "o2_max = 1500\n",
    "glc_max = 1000\n",
    "\n",
    "# ustvarimo urejen seznam razpon vrednosti kisika in glukoze, za katere želimo narediti analizo\n",
    "o2_range = np.arange(0, o2_max+1,100)\n",
    "glc_range = np.arange(0, glc_max+1,100)\n",
    "\n",
    "# ustvarimo matriko z dvema vrsticama - 1. za kisik, 2. za glukozo\n",
    "# v vsaki vrstici je toliko ničel kot je število vrednosti, za katere bomo naredili analizo\n",
    "# ničle se bodo tekom računanja spreminjale v ustrezna števila glede na rezultate analize\n",
    "B = np.zeros((len(o2_range),len(glc_range)))\n",
    "\n",
    "# za vsak par vrednosti o2 in glc se bo v matriko vpisal rezultat optimizacije\n",
    "for i,o2 in enumerate(o2_range):\n",
    "    for j,glc in enumerate(glc_range):\n",
    "        r_ex_o2.lower_bound = -o2 # nastavitev spodnje meje reakcij privzema kisika\n",
    "        r_ex_glc.lower_bound = -glc # nastavitev spodnje meje reakcij prvizema glukoze\n",
    "        s = model.optimize()\n",
    "        B[i,j] = s.objective_value # vpis rezultata v matriko"
   ]
  },
  {
   "cell_type": "code",
   "execution_count": 29,
   "metadata": {},
   "outputs": [
    {
     "data": {
      "image/png": "[encoded data removed]",
      "text/plain": [
       "<Figure size 640x480 with 2 Axes>"
      ]
     },
     "metadata": {},
     "output_type": "display_data"
    }
   ],
   "source": [
    "ax = sns.heatmap(B, xticklabels=glc_range, yticklabels=o2_range)\n",
    "ax.invert_yaxis()\n",
    "plt.xlabel(\"glc\")\n",
    "plt.ylabel(\"o2\")\n",
    "plt.show()"
   ]
  },
  {
   "cell_type": "markdown",
   "metadata": {},
   "source": [
    "## FVA\n",
    "FVA (Flux Variability Analysis) omogoča analizo razpona pretokov skozi rekacije pri (skoraj) optimalni produkciji biomase. "
   ]
  },
  {
   "cell_type": "code",
   "execution_count": 30,
   "metadata": {},
   "outputs": [],
   "source": [
    "from cobra.flux_analysis import flux_variability_analysis"
   ]
  },
  {
   "cell_type": "code",
   "execution_count": 31,
   "metadata": {},
   "outputs": [],
   "source": [
    "fva = flux_variability_analysis(model, fraction_of_optimum=0.9, loopless=True)"
   ]
  },
  {
   "cell_type": "code",
   "execution_count": 32,
   "metadata": {},
   "outputs": [
    {
     "data": {
      "text/html": [
       "<div>\n",
       "<style scoped>\n",
       "    .dataframe tbody tr th:only-of-type {\n",
       "        vertical-align: middle;\n",
       "    }\n",
       "\n",
       "    .dataframe tbody tr th {\n",
       "        vertical-align: top;\n",
       "    }\n",
       "\n",
       "    .dataframe thead th {\n",
       "        text-align: right;\n",
       "    }\n",
       "</style>\n",
       "<table border=\"1\" class=\"dataframe\">\n",
       "  <thead>\n",
       "    <tr style=\"text-align: right;\">\n",
       "      <th></th>\n",
       "      <th>minimum</th>\n",
       "      <th>maximum</th>\n",
       "    </tr>\n",
       "  </thead>\n",
       "  <tbody>\n",
       "    <tr>\n",
       "      <th>PFK</th>\n",
       "      <td>356.265728</td>\n",
       "      <td>510.972296</td>\n",
       "    </tr>\n",
       "    <tr>\n",
       "      <th>PFL</th>\n",
       "      <td>0.000000</td>\n",
       "      <td>385.309865</td>\n",
       "    </tr>\n",
       "    <tr>\n",
       "      <th>PGI</th>\n",
       "      <td>67.205944</td>\n",
       "      <td>522.310700</td>\n",
       "    </tr>\n",
       "    <tr>\n",
       "      <th>PGK</th>\n",
       "      <td>-1000.000000</td>\n",
       "      <td>-757.862000</td>\n",
       "    </tr>\n",
       "    <tr>\n",
       "      <th>PGL</th>\n",
       "      <td>16.445872</td>\n",
       "      <td>560.689093</td>\n",
       "    </tr>\n",
       "    <tr>\n",
       "      <th>...</th>\n",
       "      <td>...</td>\n",
       "      <td>...</td>\n",
       "    </tr>\n",
       "    <tr>\n",
       "      <th>NADH16</th>\n",
       "      <td>795.108259</td>\n",
       "      <td>1000.000000</td>\n",
       "    </tr>\n",
       "    <tr>\n",
       "      <th>NADTRHD</th>\n",
       "      <td>0.000000</td>\n",
       "      <td>595.977463</td>\n",
       "    </tr>\n",
       "    <tr>\n",
       "      <th>NH4t</th>\n",
       "      <td>167.087855</td>\n",
       "      <td>266.791737</td>\n",
       "    </tr>\n",
       "    <tr>\n",
       "      <th>O2t</th>\n",
       "      <td>397.554130</td>\n",
       "      <td>500.000000</td>\n",
       "    </tr>\n",
       "    <tr>\n",
       "      <th>PDH</th>\n",
       "      <td>317.320139</td>\n",
       "      <td>870.886213</td>\n",
       "    </tr>\n",
       "  </tbody>\n",
       "</table>\n",
       "<p>95 rows × 2 columns</p>\n",
       "</div>"
      ],
      "text/plain": [
       "             minimum      maximum\n",
       "PFK       356.265728   510.972296\n",
       "PFL         0.000000   385.309865\n",
       "PGI        67.205944   522.310700\n",
       "PGK     -1000.000000  -757.862000\n",
       "PGL        16.445872   560.689093\n",
       "...              ...          ...\n",
       "NADH16    795.108259  1000.000000\n",
       "NADTRHD     0.000000   595.977463\n",
       "NH4t      167.087855   266.791737\n",
       "O2t       397.554130   500.000000\n",
       "PDH       317.320139   870.886213\n",
       "\n",
       "[95 rows x 2 columns]"
      ]
     },
     "execution_count": 32,
     "metadata": {},
     "output_type": "execute_result"
    }
   ],
   "source": [
    "fva"
   ]
  },
  {
   "cell_type": "code",
   "execution_count": null,
   "metadata": {},
   "outputs": [],
   "source": [
    "model.optimize()\n",
    "model.summary(fva=0.90)"
   ]
  },
  {
   "cell_type": "markdown",
   "metadata": {},
   "source": [
    "### Geni v modelu"
   ]
  },
  {
   "cell_type": "code",
   "execution_count": null,
   "metadata": {},
   "outputs": [],
   "source": [
    "for r in model.reactions:\n",
    "    print(r.gpr)"
   ]
  },
  {
   "cell_type": "code",
   "execution_count": null,
   "metadata": {},
   "outputs": [],
   "source": [
    "model.genes.get_by_id('b4015')"
   ]
  },
  {
   "cell_type": "markdown",
   "metadata": {},
   "source": [
    "## Recon3D"
   ]
  },
  {
   "cell_type": "markdown",
   "metadata": {},
   "source": [
    "Preberimo še model Recon3D. Predtem smo ga prenesli s strani [https://github.com/SBRG/Recon3D](https://github.com/SBRG/Recon3D). Opis modela je na voljo v [članku](http://dx.doi.org/10.1038/nbt.4072)."
   ]
  },
  {
   "cell_type": "code",
   "execution_count": 33,
   "metadata": {},
   "outputs": [],
   "source": [
    "model_rec3d = cobra.io.read_sbml_model(os.path.join('models','Recon3D.xml'))"
   ]
  },
  {
   "cell_type": "code",
   "execution_count": 34,
   "metadata": {},
   "outputs": [
    {
     "data": {
      "text/html": [
       "\n",
       "        <table>\n",
       "            <tr>\n",
       "                <td><strong>Name</strong></td>\n",
       "                <td>Recon3D</td>\n",
       "            </tr><tr>\n",
       "                <td><strong>Memory address</strong></td>\n",
       "                <td>242133e5290</td>\n",
       "            </tr><tr>\n",
       "                <td><strong>Number of metabolites</strong></td>\n",
       "                <td>5835</td>\n",
       "            </tr><tr>\n",
       "                <td><strong>Number of reactions</strong></td>\n",
       "                <td>10600</td>\n",
       "            </tr><tr>\n",
       "                <td><strong>Number of genes</strong></td>\n",
       "                <td>2248</td>\n",
       "            </tr><tr>\n",
       "                <td><strong>Number of groups</strong></td>\n",
       "                <td>0</td>\n",
       "            </tr><tr>\n",
       "                <td><strong>Objective expression</strong></td>\n",
       "                <td>1.0*BIOMASS_maintenance - 1.0*BIOMASS_maintenance_reverse_5b3f9</td>\n",
       "            </tr><tr>\n",
       "                <td><strong>Compartments</strong></td>\n",
       "                <td>cytosol, lysosome, mitochondria, endoplasmic reticulum, extracellular space, peroxisome/glyoxysome, nucleus, golgi apparatus, inner mitochondrial compartment</td>\n",
       "            </tr>\n",
       "          </table>"
      ],
      "text/plain": [
       "<Model Recon3D at 0x242133e5290>"
      ]
     },
     "execution_count": 34,
     "metadata": {},
     "output_type": "execute_result"
    }
   ],
   "source": [
    "model_rec3d"
   ]
  },
  {
   "cell_type": "markdown",
   "metadata": {},
   "source": [
    "Poglejmo nekaj atributov modela:"
   ]
  },
  {
   "cell_type": "code",
   "execution_count": 36,
   "metadata": {},
   "outputs": [
    {
     "data": {
      "text/html": [
       "\n",
       "        <table>\n",
       "            <tr>\n",
       "                <td><strong>Gene identifier</strong></td><td>0</td>\n",
       "            </tr><tr>\n",
       "                <td><strong>Name</strong></td><td>0</td>\n",
       "            </tr><tr>\n",
       "                <td><strong>Memory address</strong></td>\n",
       "                <td>0x24210f2f810</td>\n",
       "            </tr><tr>\n",
       "                <td><strong>Functional</strong></td><td>True</td>\n",
       "            </tr><tr>\n",
       "                <td><strong>In 1 reaction(s)</strong></td><td>\n",
       "                    HDCA24Gtr\n",
       "                    </td>\n",
       "            </tr>\n",
       "        </table>"
      ],
      "text/plain": [
       "<Gene 0 at 0x24210f2f810>"
      ]
     },
     "execution_count": 36,
     "metadata": {},
     "output_type": "execute_result"
    }
   ],
   "source": [
    "model_rec3d.genes[0]"
   ]
  },
  {
   "cell_type": "code",
   "execution_count": 37,
   "metadata": {},
   "outputs": [
    {
     "data": {
      "text/plain": [
       "[<Metabolite 10fthf_c at 0x242133aaf50>,\n",
       " <Metabolite 10fthf_l at 0x24210ff0610>,\n",
       " <Metabolite 10fthf_m at 0x24210ed29d0>]"
      ]
     },
     "execution_count": 37,
     "metadata": {},
     "output_type": "execute_result"
    }
   ],
   "source": [
    "model_rec3d.metabolites[:3]"
   ]
  },
  {
   "cell_type": "code",
   "execution_count": 38,
   "metadata": {},
   "outputs": [
    {
     "data": {
      "text/plain": [
       "[<Reaction 24_25DHVITD3tm at 0x2421326b3d0>,\n",
       " <Reaction 25HVITD3t at 0x2423ebfff50>,\n",
       " <Reaction COAtl at 0x2423ec00790>]"
      ]
     },
     "execution_count": 38,
     "metadata": {},
     "output_type": "execute_result"
    }
   ],
   "source": [
    "model_rec3d.reactions[:3]"
   ]
  },
  {
   "cell_type": "markdown",
   "metadata": {},
   "source": [
    "Povzetek modela lahko dobimo z metodo [summary](https://cobrapy.readthedocs.io/en/latest/autoapi/cobra/summary/model_summary/index.html):"
   ]
  },
  {
   "cell_type": "code",
   "execution_count": 39,
   "metadata": {},
   "outputs": [
    {
     "data": {
      "text/html": [
       "<h3>Objective</h3><p>1.0 BIOMASS_maintenance = 755.003215550663</p><h4>Uptake</h4><table border=\"1\" class=\"dataframe\">\n",
       "  <thead>\n",
       "    <tr style=\"text-align: right;\">\n",
       "      <th>Metabolite</th>\n",
       "      <th>Reaction</th>\n",
       "      <th>Flux</th>\n",
       "      <th>C-Number</th>\n",
       "      <th>C-Flux</th>\n",
       "    </tr>\n",
       "  </thead>\n",
       "  <tbody>\n",
       "    <tr>\n",
       "      <td>thmtp_c</td>\n",
       "      <td>DM_thmtp_c</td>\n",
       "      <td>1000</td>\n",
       "      <td>12</td>\n",
       "      <td>4.09%</td>\n",
       "    </tr>\n",
       "    <tr>\n",
       "      <td>12ppd__R_e</td>\n",
       "      <td>EX_12ppd__R_e</td>\n",
       "      <td>250.8</td>\n",
       "      <td>3</td>\n",
       "      <td>0.26%</td>\n",
       "    </tr>\n",
       "    <tr>\n",
       "      <td>5aop_e</td>\n",
       "      <td>EX_5aop_e</td>\n",
       "      <td>1000</td>\n",
       "      <td>5</td>\n",
       "      <td>1.70%</td>\n",
       "    </tr>\n",
       "    <tr>\n",
       "      <td>HC00250_e</td>\n",
       "      <td>EX_HC00250_e</td>\n",
       "      <td>1000</td>\n",
       "      <td>0</td>\n",
       "      <td>0.00%</td>\n",
       "    </tr>\n",
       "    <tr>\n",
       "      <td>HC00900_e</td>\n",
       "      <td>EX_HC00900_e</td>\n",
       "      <td>1000</td>\n",
       "      <td>4</td>\n",
       "      <td>1.36%</td>\n",
       "    </tr>\n",
       "    <tr>\n",
       "      <td>HC01361_e</td>\n",
       "      <td>EX_HC01361_e</td>\n",
       "      <td>1000</td>\n",
       "      <td>9</td>\n",
       "      <td>3.07%</td>\n",
       "    </tr>\n",
       "    <tr>\n",
       "      <td>Lkynr_e</td>\n",
       "      <td>EX_Lkynr_e</td>\n",
       "      <td>105.1</td>\n",
       "      <td>10</td>\n",
       "      <td>0.36%</td>\n",
       "    </tr>\n",
       "    <tr>\n",
       "      <td>acetone_e</td>\n",
       "      <td>EX_acetone_e</td>\n",
       "      <td>427.7</td>\n",
       "      <td>3</td>\n",
       "      <td>0.44%</td>\n",
       "    </tr>\n",
       "    <tr>\n",
       "      <td>alltn_e</td>\n",
       "      <td>EX_alltn_e</td>\n",
       "      <td>1000</td>\n",
       "      <td>4</td>\n",
       "      <td>1.36%</td>\n",
       "    </tr>\n",
       "    <tr>\n",
       "      <td>atp_e</td>\n",
       "      <td>EX_atp_e</td>\n",
       "      <td>1000</td>\n",
       "      <td>10</td>\n",
       "      <td>3.41%</td>\n",
       "    </tr>\n",
       "    <tr>\n",
       "      <td>cit_e</td>\n",
       "      <td>EX_cit_e</td>\n",
       "      <td>718.8</td>\n",
       "      <td>6</td>\n",
       "      <td>1.47%</td>\n",
       "    </tr>\n",
       "    <tr>\n",
       "      <td>crm_hs_e</td>\n",
       "      <td>EX_crm_hs_e</td>\n",
       "      <td>1000</td>\n",
       "      <td>19</td>\n",
       "      <td>6.47%</td>\n",
       "    </tr>\n",
       "    <tr>\n",
       "      <td>dcmp_e</td>\n",
       "      <td>EX_dcmp_e</td>\n",
       "      <td>1000</td>\n",
       "      <td>9</td>\n",
       "      <td>3.07%</td>\n",
       "    </tr>\n",
       "    <tr>\n",
       "      <td>dopa_e</td>\n",
       "      <td>EX_dopa_e</td>\n",
       "      <td>1000</td>\n",
       "      <td>8</td>\n",
       "      <td>2.73%</td>\n",
       "    </tr>\n",
       "    <tr>\n",
       "      <td>dtmp_e</td>\n",
       "      <td>EX_dtmp_e</td>\n",
       "      <td>1000</td>\n",
       "      <td>10</td>\n",
       "      <td>3.41%</td>\n",
       "    </tr>\n",
       "    <tr>\n",
       "      <td>gluside_hs_e</td>\n",
       "      <td>EX_gluside_hs_e</td>\n",
       "      <td>13.2</td>\n",
       "      <td>25</td>\n",
       "      <td>0.11%</td>\n",
       "    </tr>\n",
       "    <tr>\n",
       "      <td>h2o2_e</td>\n",
       "      <td>EX_h2o2_e</td>\n",
       "      <td>1000</td>\n",
       "      <td>0</td>\n",
       "      <td>0.00%</td>\n",
       "    </tr>\n",
       "    <tr>\n",
       "      <td>hmcr_e</td>\n",
       "      <td>EX_hmcr_e</td>\n",
       "      <td>1000</td>\n",
       "      <td>7</td>\n",
       "      <td>2.38%</td>\n",
       "    </tr>\n",
       "    <tr>\n",
       "      <td>inost_e</td>\n",
       "      <td>EX_inost_e</td>\n",
       "      <td>777.8</td>\n",
       "      <td>6</td>\n",
       "      <td>1.59%</td>\n",
       "    </tr>\n",
       "    <tr>\n",
       "      <td>lthstrl_e</td>\n",
       "      <td>EX_lthstrl_e</td>\n",
       "      <td>154.3</td>\n",
       "      <td>27</td>\n",
       "      <td>1.42%</td>\n",
       "    </tr>\n",
       "    <tr>\n",
       "      <td>o2_e</td>\n",
       "      <td>EX_o2_e</td>\n",
       "      <td>1000</td>\n",
       "      <td>0</td>\n",
       "      <td>0.00%</td>\n",
       "    </tr>\n",
       "    <tr>\n",
       "      <td>o2s_e</td>\n",
       "      <td>EX_o2s_e</td>\n",
       "      <td>1000</td>\n",
       "      <td>0</td>\n",
       "      <td>0.00%</td>\n",
       "    </tr>\n",
       "    <tr>\n",
       "      <td>ocdca_e</td>\n",
       "      <td>EX_ocdca_e</td>\n",
       "      <td>138.9</td>\n",
       "      <td>18</td>\n",
       "      <td>0.85%</td>\n",
       "    </tr>\n",
       "    <tr>\n",
       "      <td>pe_hs_e</td>\n",
       "      <td>EX_pe_hs_e</td>\n",
       "      <td>41.81</td>\n",
       "      <td>7</td>\n",
       "      <td>0.10%</td>\n",
       "    </tr>\n",
       "    <tr>\n",
       "      <td>pep_e</td>\n",
       "      <td>EX_pep_e</td>\n",
       "      <td>1000</td>\n",
       "      <td>3</td>\n",
       "      <td>1.02%</td>\n",
       "    </tr>\n",
       "    <tr>\n",
       "      <td>pglyc_hs_e</td>\n",
       "      <td>EX_pglyc_hs_e</td>\n",
       "      <td>11</td>\n",
       "      <td>8</td>\n",
       "      <td>0.03%</td>\n",
       "    </tr>\n",
       "    <tr>\n",
       "      <td>ps_hs_e</td>\n",
       "      <td>EX_ps_hs_e</td>\n",
       "      <td>920.8</td>\n",
       "      <td>8</td>\n",
       "      <td>2.51%</td>\n",
       "    </tr>\n",
       "    <tr>\n",
       "      <td>udpglcur_e</td>\n",
       "      <td>EX_udpglcur_e</td>\n",
       "      <td>1000</td>\n",
       "      <td>15</td>\n",
       "      <td>5.11%</td>\n",
       "    </tr>\n",
       "    <tr>\n",
       "      <td>utp_e</td>\n",
       "      <td>EX_utp_e</td>\n",
       "      <td>1000</td>\n",
       "      <td>9</td>\n",
       "      <td>3.07%</td>\n",
       "    </tr>\n",
       "    <tr>\n",
       "      <td>xtsn_e</td>\n",
       "      <td>EX_xtsn_e</td>\n",
       "      <td>1000</td>\n",
       "      <td>10</td>\n",
       "      <td>3.41%</td>\n",
       "    </tr>\n",
       "    <tr>\n",
       "      <td>arg__L_c</td>\n",
       "      <td>SK_arg__L_c</td>\n",
       "      <td>311.4</td>\n",
       "      <td>6</td>\n",
       "      <td>0.64%</td>\n",
       "    </tr>\n",
       "    <tr>\n",
       "      <td>asn__L_c</td>\n",
       "      <td>SK_asn__L_c</td>\n",
       "      <td>211</td>\n",
       "      <td>4</td>\n",
       "      <td>0.29%</td>\n",
       "    </tr>\n",
       "    <tr>\n",
       "      <td>asp__L_c</td>\n",
       "      <td>SK_asp__L_c</td>\n",
       "      <td>266.2</td>\n",
       "      <td>4</td>\n",
       "      <td>0.36%</td>\n",
       "    </tr>\n",
       "    <tr>\n",
       "      <td>chol_c</td>\n",
       "      <td>SK_chol_c</td>\n",
       "      <td>129.8</td>\n",
       "      <td>5</td>\n",
       "      <td>0.22%</td>\n",
       "    </tr>\n",
       "    <tr>\n",
       "      <td>cholate_c</td>\n",
       "      <td>SK_cholate_c</td>\n",
       "      <td>853</td>\n",
       "      <td>24</td>\n",
       "      <td>6.97%</td>\n",
       "    </tr>\n",
       "    <tr>\n",
       "      <td>dchac_c</td>\n",
       "      <td>SK_dchac_c</td>\n",
       "      <td>147</td>\n",
       "      <td>24</td>\n",
       "      <td>1.20%</td>\n",
       "    </tr>\n",
       "    <tr>\n",
       "      <td>gln__L_c</td>\n",
       "      <td>SK_gln__L_c</td>\n",
       "      <td>246.1</td>\n",
       "      <td>5</td>\n",
       "      <td>0.42%</td>\n",
       "    </tr>\n",
       "    <tr>\n",
       "      <td>glu__L_c</td>\n",
       "      <td>SK_glu__L_c</td>\n",
       "      <td>457</td>\n",
       "      <td>5</td>\n",
       "      <td>0.78%</td>\n",
       "    </tr>\n",
       "    <tr>\n",
       "      <td>glygn2_c</td>\n",
       "      <td>SK_glygn2_c</td>\n",
       "      <td>850.3</td>\n",
       "      <td>66</td>\n",
       "      <td>19.12%</td>\n",
       "    </tr>\n",
       "    <tr>\n",
       "      <td>his__L_c</td>\n",
       "      <td>SK_his__L_c</td>\n",
       "      <td>590.4</td>\n",
       "      <td>6</td>\n",
       "      <td>1.21%</td>\n",
       "    </tr>\n",
       "    <tr>\n",
       "      <td>ile__L_c</td>\n",
       "      <td>SK_ile__L_c</td>\n",
       "      <td>216</td>\n",
       "      <td>6</td>\n",
       "      <td>0.44%</td>\n",
       "    </tr>\n",
       "    <tr>\n",
       "      <td>leu__L_c</td>\n",
       "      <td>SK_leu__L_c</td>\n",
       "      <td>411.9</td>\n",
       "      <td>6</td>\n",
       "      <td>0.84%</td>\n",
       "    </tr>\n",
       "    <tr>\n",
       "      <td>met__L_c</td>\n",
       "      <td>SK_met__L_c</td>\n",
       "      <td>1000</td>\n",
       "      <td>5</td>\n",
       "      <td>1.70%</td>\n",
       "    </tr>\n",
       "    <tr>\n",
       "      <td>nad_c</td>\n",
       "      <td>SK_nad_c</td>\n",
       "      <td>1000</td>\n",
       "      <td>21</td>\n",
       "      <td>7.15%</td>\n",
       "    </tr>\n",
       "    <tr>\n",
       "      <td>phe__L_c</td>\n",
       "      <td>SK_phe__L_c</td>\n",
       "      <td>195.9</td>\n",
       "      <td>9</td>\n",
       "      <td>0.60%</td>\n",
       "    </tr>\n",
       "    <tr>\n",
       "      <td>pro__L_c</td>\n",
       "      <td>SK_pro__L_c</td>\n",
       "      <td>311.4</td>\n",
       "      <td>5</td>\n",
       "      <td>0.53%</td>\n",
       "    </tr>\n",
       "    <tr>\n",
       "      <td>thr__L_c</td>\n",
       "      <td>SK_thr__L_c</td>\n",
       "      <td>236.1</td>\n",
       "      <td>4</td>\n",
       "      <td>0.32%</td>\n",
       "    </tr>\n",
       "    <tr>\n",
       "      <td>tmndnccoa_c</td>\n",
       "      <td>SK_tmndnccoa_c</td>\n",
       "      <td>111.1</td>\n",
       "      <td>41</td>\n",
       "      <td>1.55%</td>\n",
       "    </tr>\n",
       "    <tr>\n",
       "      <td>trp__L_c</td>\n",
       "      <td>SK_trp__L_c</td>\n",
       "      <td>10.05</td>\n",
       "      <td>11</td>\n",
       "      <td>0.04%</td>\n",
       "    </tr>\n",
       "    <tr>\n",
       "      <td>tyr__L_c</td>\n",
       "      <td>SK_tyr__L_c</td>\n",
       "      <td>120.6</td>\n",
       "      <td>9</td>\n",
       "      <td>0.37%</td>\n",
       "    </tr>\n",
       "    <tr>\n",
       "      <td>val__L_c</td>\n",
       "      <td>SK_val__L_c</td>\n",
       "      <td>266.2</td>\n",
       "      <td>5</td>\n",
       "      <td>0.45%</td>\n",
       "    </tr>\n",
       "  </tbody>\n",
       "</table><h4>Secretion</h4><table border=\"1\" class=\"dataframe\">\n",
       "  <thead>\n",
       "    <tr style=\"text-align: right;\">\n",
       "      <th>Metabolite</th>\n",
       "      <th>Reaction</th>\n",
       "      <th>Flux</th>\n",
       "      <th>C-Number</th>\n",
       "      <th>C-Flux</th>\n",
       "    </tr>\n",
       "  </thead>\n",
       "  <tbody>\n",
       "    <tr>\n",
       "      <td>C02712_c</td>\n",
       "      <td>DM_C02712_c</td>\n",
       "      <td>-884.5</td>\n",
       "      <td>7</td>\n",
       "      <td>2.35%</td>\n",
       "    </tr>\n",
       "    <tr>\n",
       "      <td>dca3g_c</td>\n",
       "      <td>DM_dca3g_c</td>\n",
       "      <td>-1000</td>\n",
       "      <td>30</td>\n",
       "      <td>11.39%</td>\n",
       "    </tr>\n",
       "    <tr>\n",
       "      <td>kynate_c</td>\n",
       "      <td>DM_kynate_c</td>\n",
       "      <td>-105.1</td>\n",
       "      <td>10</td>\n",
       "      <td>0.40%</td>\n",
       "    </tr>\n",
       "    <tr>\n",
       "      <td>C09642_e</td>\n",
       "      <td>EX_C09642_e</td>\n",
       "      <td>-1000</td>\n",
       "      <td>10</td>\n",
       "      <td>3.80%</td>\n",
       "    </tr>\n",
       "    <tr>\n",
       "      <td>M01966_e</td>\n",
       "      <td>EX_M01966_e</td>\n",
       "      <td>-550.9</td>\n",
       "      <td>6</td>\n",
       "      <td>1.26%</td>\n",
       "    </tr>\n",
       "    <tr>\n",
       "      <td>Rtotal_e</td>\n",
       "      <td>EX_Rtotal_e</td>\n",
       "      <td>-1000</td>\n",
       "      <td>1</td>\n",
       "      <td>0.38%</td>\n",
       "    </tr>\n",
       "    <tr>\n",
       "      <td>adn_e</td>\n",
       "      <td>EX_adn_e</td>\n",
       "      <td>-616.3</td>\n",
       "      <td>10</td>\n",
       "      <td>2.34%</td>\n",
       "    </tr>\n",
       "    <tr>\n",
       "      <td>ahdt_e</td>\n",
       "      <td>EX_ahdt_e</td>\n",
       "      <td>-1000</td>\n",
       "      <td>9</td>\n",
       "      <td>3.42%</td>\n",
       "    </tr>\n",
       "    <tr>\n",
       "      <td>alaglylys_e</td>\n",
       "      <td>EX_alaglylys_e</td>\n",
       "      <td>-553</td>\n",
       "      <td>11</td>\n",
       "      <td>2.31%</td>\n",
       "    </tr>\n",
       "    <tr>\n",
       "      <td>alahisala_e</td>\n",
       "      <td>EX_alahisala_e</td>\n",
       "      <td>-32.65</td>\n",
       "      <td>12</td>\n",
       "      <td>0.15%</td>\n",
       "    </tr>\n",
       "    <tr>\n",
       "      <td>argcysgly_e</td>\n",
       "      <td>EX_argcysgly_e</td>\n",
       "      <td>-40.18</td>\n",
       "      <td>11</td>\n",
       "      <td>0.17%</td>\n",
       "    </tr>\n",
       "    <tr>\n",
       "      <td>co2_e</td>\n",
       "      <td>EX_co2_e</td>\n",
       "      <td>-1000</td>\n",
       "      <td>1</td>\n",
       "      <td>0.38%</td>\n",
       "    </tr>\n",
       "    <tr>\n",
       "      <td>cytd_e</td>\n",
       "      <td>EX_cytd_e</td>\n",
       "      <td>-656.8</td>\n",
       "      <td>9</td>\n",
       "      <td>2.24%</td>\n",
       "    </tr>\n",
       "    <tr>\n",
       "      <td>dad_2_e</td>\n",
       "      <td>EX_dad_2_e</td>\n",
       "      <td>-343.2</td>\n",
       "      <td>10</td>\n",
       "      <td>1.30%</td>\n",
       "    </tr>\n",
       "    <tr>\n",
       "      <td>dag_hs_e</td>\n",
       "      <td>EX_dag_hs_e</td>\n",
       "      <td>-773.4</td>\n",
       "      <td>5</td>\n",
       "      <td>1.47%</td>\n",
       "    </tr>\n",
       "    <tr>\n",
       "      <td>dcyt_e</td>\n",
       "      <td>EX_dcyt_e</td>\n",
       "      <td>-177.2</td>\n",
       "      <td>9</td>\n",
       "      <td>0.61%</td>\n",
       "    </tr>\n",
       "    <tr>\n",
       "      <td>dttp_e</td>\n",
       "      <td>EX_dttp_e</td>\n",
       "      <td>-1000</td>\n",
       "      <td>10</td>\n",
       "      <td>3.80%</td>\n",
       "    </tr>\n",
       "    <tr>\n",
       "      <td>duri_e</td>\n",
       "      <td>EX_duri_e</td>\n",
       "      <td>-479.7</td>\n",
       "      <td>9</td>\n",
       "      <td>1.64%</td>\n",
       "    </tr>\n",
       "    <tr>\n",
       "      <td>dxtrn_e</td>\n",
       "      <td>EX_dxtrn_e</td>\n",
       "      <td>-850.3</td>\n",
       "      <td>48</td>\n",
       "      <td>15.50%</td>\n",
       "    </tr>\n",
       "    <tr>\n",
       "      <td>fdp_e</td>\n",
       "      <td>EX_fdp_e</td>\n",
       "      <td>-344.2</td>\n",
       "      <td>6</td>\n",
       "      <td>0.78%</td>\n",
       "    </tr>\n",
       "    <tr>\n",
       "      <td>fum_e</td>\n",
       "      <td>EX_fum_e</td>\n",
       "      <td>-884.5</td>\n",
       "      <td>4</td>\n",
       "      <td>1.34%</td>\n",
       "    </tr>\n",
       "    <tr>\n",
       "      <td>glcn_e</td>\n",
       "      <td>EX_glcn_e</td>\n",
       "      <td>-1000</td>\n",
       "      <td>6</td>\n",
       "      <td>2.28%</td>\n",
       "    </tr>\n",
       "    <tr>\n",
       "      <td>glyald_e</td>\n",
       "      <td>EX_glyald_e</td>\n",
       "      <td>-620</td>\n",
       "      <td>3</td>\n",
       "      <td>0.71%</td>\n",
       "    </tr>\n",
       "    <tr>\n",
       "      <td>gua_e</td>\n",
       "      <td>EX_gua_e</td>\n",
       "      <td>-1000</td>\n",
       "      <td>5</td>\n",
       "      <td>1.90%</td>\n",
       "    </tr>\n",
       "    <tr>\n",
       "      <td>hco3_e</td>\n",
       "      <td>EX_hco3_e</td>\n",
       "      <td>-522.7</td>\n",
       "      <td>1</td>\n",
       "      <td>0.20%</td>\n",
       "    </tr>\n",
       "    <tr>\n",
       "      <td>hiscyscys_e</td>\n",
       "      <td>EX_hiscyscys_e</td>\n",
       "      <td>-462.3</td>\n",
       "      <td>12</td>\n",
       "      <td>2.11%</td>\n",
       "    </tr>\n",
       "    <tr>\n",
       "      <td>imp_e</td>\n",
       "      <td>EX_imp_e</td>\n",
       "      <td>-972.7</td>\n",
       "      <td>10</td>\n",
       "      <td>3.69%</td>\n",
       "    </tr>\n",
       "    <tr>\n",
       "      <td>isomal_e</td>\n",
       "      <td>EX_isomal_e</td>\n",
       "      <td>-6.601</td>\n",
       "      <td>12</td>\n",
       "      <td>0.03%</td>\n",
       "    </tr>\n",
       "    <tr>\n",
       "      <td>lac__D_e</td>\n",
       "      <td>EX_lac__D_e</td>\n",
       "      <td>-678.5</td>\n",
       "      <td>3</td>\n",
       "      <td>0.77%</td>\n",
       "    </tr>\n",
       "    <tr>\n",
       "      <td>mi1p__D_e</td>\n",
       "      <td>EX_mi1p__D_e</td>\n",
       "      <td>-1000</td>\n",
       "      <td>6</td>\n",
       "      <td>2.28%</td>\n",
       "    </tr>\n",
       "    <tr>\n",
       "      <td>nac_e</td>\n",
       "      <td>EX_nac_e</td>\n",
       "      <td>-383.5</td>\n",
       "      <td>6</td>\n",
       "      <td>0.87%</td>\n",
       "    </tr>\n",
       "    <tr>\n",
       "      <td>nh4_e</td>\n",
       "      <td>EX_nh4_e</td>\n",
       "      <td>-1000</td>\n",
       "      <td>0</td>\n",
       "      <td>0.00%</td>\n",
       "    </tr>\n",
       "    <tr>\n",
       "      <td>nicrnt_e</td>\n",
       "      <td>EX_nicrnt_e</td>\n",
       "      <td>-616.5</td>\n",
       "      <td>11</td>\n",
       "      <td>2.58%</td>\n",
       "    </tr>\n",
       "    <tr>\n",
       "      <td>pi_e</td>\n",
       "      <td>EX_pi_e</td>\n",
       "      <td>-1000</td>\n",
       "      <td>0</td>\n",
       "      <td>0.00%</td>\n",
       "    </tr>\n",
       "    <tr>\n",
       "      <td>pyr_e</td>\n",
       "      <td>EX_pyr_e</td>\n",
       "      <td>-1000</td>\n",
       "      <td>3</td>\n",
       "      <td>1.14%</td>\n",
       "    </tr>\n",
       "    <tr>\n",
       "      <td>sphings_e</td>\n",
       "      <td>EX_sphings_e</td>\n",
       "      <td>-1000</td>\n",
       "      <td>18</td>\n",
       "      <td>6.83%</td>\n",
       "    </tr>\n",
       "    <tr>\n",
       "      <td>succ_e</td>\n",
       "      <td>EX_succ_e</td>\n",
       "      <td>-1000</td>\n",
       "      <td>4</td>\n",
       "      <td>1.52%</td>\n",
       "    </tr>\n",
       "    <tr>\n",
       "      <td>thmtp_e</td>\n",
       "      <td>EX_thmtp_e</td>\n",
       "      <td>-1000</td>\n",
       "      <td>12</td>\n",
       "      <td>4.56%</td>\n",
       "    </tr>\n",
       "    <tr>\n",
       "      <td>ura_e</td>\n",
       "      <td>EX_ura_e</td>\n",
       "      <td>-616.5</td>\n",
       "      <td>4</td>\n",
       "      <td>0.94%</td>\n",
       "    </tr>\n",
       "    <tr>\n",
       "      <td>urate_e</td>\n",
       "      <td>EX_urate_e</td>\n",
       "      <td>-1000</td>\n",
       "      <td>5</td>\n",
       "      <td>1.90%</td>\n",
       "    </tr>\n",
       "    <tr>\n",
       "      <td>uri_e</td>\n",
       "      <td>EX_uri_e</td>\n",
       "      <td>-1000</td>\n",
       "      <td>9</td>\n",
       "      <td>3.42%</td>\n",
       "    </tr>\n",
       "    <tr>\n",
       "      <td>xolest_hs_e</td>\n",
       "      <td>EX_xolest_hs_e</td>\n",
       "      <td>-138.9</td>\n",
       "      <td>28</td>\n",
       "      <td>1.48%</td>\n",
       "    </tr>\n",
       "    <tr>\n",
       "      <td>mi145p_c</td>\n",
       "      <td>SK_mi145p_c</td>\n",
       "      <td>-239.8</td>\n",
       "      <td>6</td>\n",
       "      <td>0.55%</td>\n",
       "    </tr>\n",
       "    <tr>\n",
       "      <td>mi14p_c</td>\n",
       "      <td>SK_mi14p_c</td>\n",
       "      <td>-520.3</td>\n",
       "      <td>6</td>\n",
       "      <td>1.19%</td>\n",
       "    </tr>\n",
       "    <tr>\n",
       "      <td>odecoa_c</td>\n",
       "      <td>SK_odecoa_c</td>\n",
       "      <td>-138.9</td>\n",
       "      <td>39</td>\n",
       "      <td>2.06%</td>\n",
       "    </tr>\n",
       "  </tbody>\n",
       "</table>"
      ],
      "text/plain": [
       "<cobra.summary.model_summary.ModelSummary at 0x24242665a90>"
      ]
     },
     "execution_count": 39,
     "metadata": {},
     "output_type": "execute_result"
    }
   ],
   "source": [
    "model_rec3d.summary()"
   ]
  },
  {
   "cell_type": "code",
   "execution_count": 40,
   "metadata": {},
   "outputs": [
    {
     "name": "stdout",
     "output_type": "stream",
     "text": [
      "1591_AT1\n",
      "8639_AT1 or 26_AT1 or 314_AT2 or 314_AT1\n",
      "1594_AT1\n",
      "10993_AT1\n",
      "6818_AT1\n",
      "89874_AT1\n",
      "(4967_AT2 and 1738_AT1 and 8050_AT1 and 1743_AT1) or (4967_AT1 and 1738_AT1 and 8050_AT1 and 1743_AT1)\n",
      "89874_AT1\n",
      "117247_AT1\n",
      "221_AT1 or 218_AT1 or 220_AT1\n",
      "18_AT1 or 18_AT2\n",
      "23498_AT1\n",
      "4128_AT1 or 4129_AT1\n",
      "4129_AT1 or 8639_AT1 or 26_AT1 or 314_AT2 or 314_AT1 or 4128_AT1\n",
      "222_AT1 or 220_AT1 or 221_AT1 or 218_AT1\n",
      "6799_AT1 or 6817_AT3 or 6799_AT2 or 6818_AT2 or 6817_AT2 or 6818_AT1 or 6817_AT1 or 6817_AT4 or 6818_AT3 or 6817_AT5\n",
      "6822_AT1 or 6818_AT1\n",
      "6573_AT1 or 6573_AT2\n",
      "4128_AT1 or 4129_AT1\n",
      "53947_AT1\n",
      "53947_AT1\n",
      "51146_AT1\n",
      "28_AT1\n",
      "28_AT1\n",
      "28_AT1\n",
      "28_AT1\n",
      "28_AT1\n",
      "28_AT1\n",
      "18_AT1 or 18_AT2\n",
      "206358_AT1\n",
      "38_AT1 or 3032_AT1 or 10449_AT1\n",
      "30_AT1\n",
      "30_AT1\n",
      "30_AT1\n",
      "84532_AT1 or 79611_AT1\n",
      "9197_AT1\n",
      "6566_AT1 or 9123_AT1 or 9194_AT1\n",
      "55577_AT1\n",
      "5238_AT1\n",
      "6572_AT1\n",
      "26503_AT1\n",
      "36_AT1 or 34_AT1\n",
      "3712_AT1\n",
      "34_AT1 or 27034_AT1\n",
      "51_AT1 or 51_AT2\n",
      "95_AT1\n",
      "50_AT1 or 48_AT1\n",
      "52_AT1 or 52_AT3 or 52_AT2 or 55_AT1 or 51205_AT1 or 54_AT1\n",
      "55902_AT1 or 65985_AT1 or 55902_AT2\n",
      "438_AT1\n"
     ]
    }
   ],
   "source": [
    "for r in model_rec3d.reactions[:100]:\n",
    "    gpr = r.gene_reaction_rule\n",
    "    if gpr:\n",
    "        print(gpr)"
   ]
  },
  {
   "cell_type": "code",
   "execution_count": 41,
   "metadata": {},
   "outputs": [
    {
     "data": {
      "text/html": [
       "\n",
       "        <table>\n",
       "            <tr>\n",
       "                <td><strong>Gene identifier</strong></td><td>55902_AT1</td>\n",
       "            </tr><tr>\n",
       "                <td><strong>Name</strong></td><td>ACSS2</td>\n",
       "            </tr><tr>\n",
       "                <td><strong>Memory address</strong></td>\n",
       "                <td>0x2423e7b6dd0</td>\n",
       "            </tr><tr>\n",
       "                <td><strong>Functional</strong></td><td>True</td>\n",
       "            </tr><tr>\n",
       "                <td><strong>In 9 reaction(s)</strong></td><td>\n",
       "                    r0319, r0068, r0220_1, ACS, r0097, r0318, r0221_1, ACCOAL, ACS2\n",
       "                    </td>\n",
       "            </tr>\n",
       "        </table>"
      ],
      "text/plain": [
       "<Gene 55902_AT1 at 0x2423e7b6dd0>"
      ]
     },
     "execution_count": 41,
     "metadata": {},
     "output_type": "execute_result"
    }
   ],
   "source": [
    "g = model_rec3d.genes.get_by_id('55902_AT1')\n",
    "g"
   ]
  },
  {
   "cell_type": "markdown",
   "metadata": {},
   "source": [
    "Izpišimo gene v padajočem vrstnem redu glede na število reakcij, v katerih nastopajo."
   ]
  },
  {
   "cell_type": "code",
   "execution_count": 42,
   "metadata": {},
   "outputs": [],
   "source": [
    "d = {}\n",
    "\n",
    "for g in model_rec3d.genes:\n",
    "    d[g.name] = len(g.reactions)"
   ]
  },
  {
   "cell_type": "code",
   "execution_count": 43,
   "metadata": {},
   "outputs": [
    {
     "data": {
      "text/plain": [
       "[('SLC7A6', 307),\n",
       " ('SLC15A1', 252),\n",
       " ('SLC15A2', 243),\n",
       " ('HADHA', 168),\n",
       " ('EHHADH', 166),\n",
       " ('SLCO1B1', 148),\n",
       " ('SLC27A2', 123),\n",
       " ('ACSL1', 122),\n",
       " ('ACAA1', 116),\n",
       " ('SLC7A5', 115),\n",
       " ('SLCO1A2', 106),\n",
       " ('HADHB', 105),\n",
       " ('CPT1A', 103),\n",
       " ('ACOX1', 100),\n",
       " ('ACADM', 98),\n",
       " ('HSD17B4', 98),\n",
       " ('ACSL5', 96),\n",
       " ('ACSBG2', 93),\n",
       " ('ACSL6', 93),\n",
       " ('CPT1C', 92),\n",
       " ('SLC25A20', 91),\n",
       " ('ABCA1', 90),\n",
       " ('SLC7A9', 86),\n",
       " ('ECHS1', 84),\n",
       " ('HADH', 81),\n",
       " ('ACADVL', 80),\n",
       " ('SLC16A1', 78),\n",
       " ('ACAA2', 77),\n",
       " ('ACSBG1', 76),\n",
       " ('BAAT', 73)]"
      ]
     },
     "execution_count": 43,
     "metadata": {},
     "output_type": "execute_result"
    }
   ],
   "source": [
    "G = sorted(list(d.items()), key=lambda x: x[1], reverse = True)\n",
    "G[:30]"
   ]
  },
  {
   "cell_type": "code",
   "execution_count": null,
   "metadata": {},
   "outputs": [],
   "source": []
  }
 ],
 "metadata": {
  "kernelspec": {
   "display_name": "metabolic",
   "language": "python",
   "name": "metabolic"
  },
  "language_info": {
   "codemirror_mode": {
    "name": "ipython",
    "version": 3
   },
   "file_extension": ".py",
   "mimetype": "text/x-python",
   "name": "python",
   "nbconvert_exporter": "python",
   "pygments_lexer": "ipython3",
   "version": "3.11.0"
  }
 },
 "nbformat": 4,
 "nbformat_minor": 4
}
